{
 "cells": [
  {
   "cell_type": "code",
   "execution_count": 5,
   "metadata": {},
   "outputs": [],
   "source": [
    "from clu.phontools.lang.ar import ArabicUtils\n",
    "from clu.phontools.struct import *\n",
    "from clu.phontools.arabictools import Converter\n",
    "from clu.phontools.alignment.realine import *\n",
    "from clu.phontools.alignment.lbe import *"
   ]
  },
  {
   "cell_type": "markdown",
   "metadata": {},
   "source": [
    "### 1) Each arabic phrase is `List[Text]`"
   ]
  },
  {
   "cell_type": "code",
   "execution_count": 6,
   "metadata": {},
   "outputs": [],
   "source": [
    "arabic_example = [\"شاش\", \"شاش\"]"
   ]
  },
  {
   "cell_type": "markdown",
   "metadata": {},
   "source": [
    "2) Convert to Bucwalter as `List[Text]`"
   ]
  },
  {
   "cell_type": "code",
   "execution_count": 8,
   "metadata": {},
   "outputs": [
    {
     "data": {
      "text/plain": [
       "['$A$', '$A$']"
      ]
     },
     "execution_count": 8,
     "metadata": {},
     "output_type": "execute_result"
    }
   ],
   "source": [
    "# 1) convert arabic text to buckwalter\n",
    "arabic_to_buckwalter = [Converter.convert_arabic_to_buckwalter(i) for i in arabic_example]\n",
    "arabic_to_buckwalter"
   ]
  },
  {
   "cell_type": "code",
   "execution_count": 9,
   "metadata": {},
   "outputs": [
    {
     "data": {
      "text/plain": [
       "[Phrase(words=(Word(word='$A$', phonological_form=PhonologicalWord(phones=('$', 'A', '$'), stress_pattern=[Stress.NON_VOWEL, Stress.NON_VOWEL, Stress.NON_VOWEL])), Word(word='$A$', phonological_form=PhonologicalWord(phones=('$', 'A', '$'), stress_pattern=[Stress.NON_VOWEL, Stress.NON_VOWEL, Stress.NON_VOWEL])))),\n",
       " Phrase(words=(Word(word='$A$', phonological_form=PhonologicalWord(phones=('$', 'A', '$'), stress_pattern=[Stress.NON_VOWEL, Stress.NON_VOWEL, Stress.NON_VOWEL])), Word(word='$A$', phonological_form=PhonologicalWord(phones=('$', 'A', '$', 'a'), stress_pattern=[Stress.NON_VOWEL, Stress.NON_VOWEL, Stress.NON_VOWEL, Stress.NON_VOWEL])))),\n",
       " Phrase(words=(Word(word='$A$', phonological_form=PhonologicalWord(phones=('$', 'A', '$'), stress_pattern=[Stress.NON_VOWEL, Stress.NON_VOWEL, Stress.NON_VOWEL])), Word(word='$A$', phonological_form=PhonologicalWord(phones=('$', 'A', '$', 'i'), stress_pattern=[Stress.NON_VOWEL, Stress.NON_VOWEL, Stress.NON_VOWEL, Stress.NON_VOWEL])))),\n",
       " Phrase(words=(Word(word='$A$', phonological_form=PhonologicalWord(phones=('$', 'A', '$'), stress_pattern=[Stress.NON_VOWEL, Stress.NON_VOWEL, Stress.NON_VOWEL])), Word(word='$A$', phonological_form=PhonologicalWord(phones=('$', 'A', '$', 'i', 'n'), stress_pattern=[Stress.NON_VOWEL, Stress.NON_VOWEL, Stress.NON_VOWEL, Stress.NON_VOWEL, Stress.NON_VOWEL])))),\n",
       " Phrase(words=(Word(word='$A$', phonological_form=PhonologicalWord(phones=('$', 'A', '$'), stress_pattern=[Stress.NON_VOWEL, Stress.NON_VOWEL, Stress.NON_VOWEL])), Word(word='$A$', phonological_form=PhonologicalWord(phones=('$', 'A', '$', 'u'), stress_pattern=[Stress.NON_VOWEL, Stress.NON_VOWEL, Stress.NON_VOWEL, Stress.NON_VOWEL])))),\n",
       " Phrase(words=(Word(word='$A$', phonological_form=PhonologicalWord(phones=('$', 'A', '$'), stress_pattern=[Stress.NON_VOWEL, Stress.NON_VOWEL, Stress.NON_VOWEL])), Word(word='$A$', phonological_form=PhonologicalWord(phones=('$', 'A', '$', 'u', 'n'), stress_pattern=[Stress.NON_VOWEL, Stress.NON_VOWEL, Stress.NON_VOWEL, Stress.NON_VOWEL, Stress.NON_VOWEL])))),\n",
       " Phrase(words=(Word(word='$A$', phonological_form=PhonologicalWord(phones=('$', 'A', '$', 'a'), stress_pattern=[Stress.NON_VOWEL, Stress.NON_VOWEL, Stress.NON_VOWEL, Stress.NON_VOWEL])), Word(word='$A$', phonological_form=PhonologicalWord(phones=('$', 'A', '$'), stress_pattern=[Stress.NON_VOWEL, Stress.NON_VOWEL, Stress.NON_VOWEL])))),\n",
       " Phrase(words=(Word(word='$A$', phonological_form=PhonologicalWord(phones=('$', 'A', '$', 'a'), stress_pattern=[Stress.NON_VOWEL, Stress.NON_VOWEL, Stress.NON_VOWEL, Stress.NON_VOWEL])), Word(word='$A$', phonological_form=PhonologicalWord(phones=('$', 'A', '$', 'a'), stress_pattern=[Stress.NON_VOWEL, Stress.NON_VOWEL, Stress.NON_VOWEL, Stress.NON_VOWEL])))),\n",
       " Phrase(words=(Word(word='$A$', phonological_form=PhonologicalWord(phones=('$', 'A', '$', 'a'), stress_pattern=[Stress.NON_VOWEL, Stress.NON_VOWEL, Stress.NON_VOWEL, Stress.NON_VOWEL])), Word(word='$A$', phonological_form=PhonologicalWord(phones=('$', 'A', '$', 'i'), stress_pattern=[Stress.NON_VOWEL, Stress.NON_VOWEL, Stress.NON_VOWEL, Stress.NON_VOWEL])))),\n",
       " Phrase(words=(Word(word='$A$', phonological_form=PhonologicalWord(phones=('$', 'A', '$', 'a'), stress_pattern=[Stress.NON_VOWEL, Stress.NON_VOWEL, Stress.NON_VOWEL, Stress.NON_VOWEL])), Word(word='$A$', phonological_form=PhonologicalWord(phones=('$', 'A', '$', 'i', 'n'), stress_pattern=[Stress.NON_VOWEL, Stress.NON_VOWEL, Stress.NON_VOWEL, Stress.NON_VOWEL, Stress.NON_VOWEL])))),\n",
       " Phrase(words=(Word(word='$A$', phonological_form=PhonologicalWord(phones=('$', 'A', '$', 'a'), stress_pattern=[Stress.NON_VOWEL, Stress.NON_VOWEL, Stress.NON_VOWEL, Stress.NON_VOWEL])), Word(word='$A$', phonological_form=PhonologicalWord(phones=('$', 'A', '$', 'u'), stress_pattern=[Stress.NON_VOWEL, Stress.NON_VOWEL, Stress.NON_VOWEL, Stress.NON_VOWEL])))),\n",
       " Phrase(words=(Word(word='$A$', phonological_form=PhonologicalWord(phones=('$', 'A', '$', 'a'), stress_pattern=[Stress.NON_VOWEL, Stress.NON_VOWEL, Stress.NON_VOWEL, Stress.NON_VOWEL])), Word(word='$A$', phonological_form=PhonologicalWord(phones=('$', 'A', '$', 'u', 'n'), stress_pattern=[Stress.NON_VOWEL, Stress.NON_VOWEL, Stress.NON_VOWEL, Stress.NON_VOWEL, Stress.NON_VOWEL])))),\n",
       " Phrase(words=(Word(word='$A$', phonological_form=PhonologicalWord(phones=('$', 'A', '$', 'i'), stress_pattern=[Stress.NON_VOWEL, Stress.NON_VOWEL, Stress.NON_VOWEL, Stress.NON_VOWEL])), Word(word='$A$', phonological_form=PhonologicalWord(phones=('$', 'A', '$'), stress_pattern=[Stress.NON_VOWEL, Stress.NON_VOWEL, Stress.NON_VOWEL])))),\n",
       " Phrase(words=(Word(word='$A$', phonological_form=PhonologicalWord(phones=('$', 'A', '$', 'i'), stress_pattern=[Stress.NON_VOWEL, Stress.NON_VOWEL, Stress.NON_VOWEL, Stress.NON_VOWEL])), Word(word='$A$', phonological_form=PhonologicalWord(phones=('$', 'A', '$', 'a'), stress_pattern=[Stress.NON_VOWEL, Stress.NON_VOWEL, Stress.NON_VOWEL, Stress.NON_VOWEL])))),\n",
       " Phrase(words=(Word(word='$A$', phonological_form=PhonologicalWord(phones=('$', 'A', '$', 'i'), stress_pattern=[Stress.NON_VOWEL, Stress.NON_VOWEL, Stress.NON_VOWEL, Stress.NON_VOWEL])), Word(word='$A$', phonological_form=PhonologicalWord(phones=('$', 'A', '$', 'i'), stress_pattern=[Stress.NON_VOWEL, Stress.NON_VOWEL, Stress.NON_VOWEL, Stress.NON_VOWEL])))),\n",
       " Phrase(words=(Word(word='$A$', phonological_form=PhonologicalWord(phones=('$', 'A', '$', 'i'), stress_pattern=[Stress.NON_VOWEL, Stress.NON_VOWEL, Stress.NON_VOWEL, Stress.NON_VOWEL])), Word(word='$A$', phonological_form=PhonologicalWord(phones=('$', 'A', '$', 'i', 'n'), stress_pattern=[Stress.NON_VOWEL, Stress.NON_VOWEL, Stress.NON_VOWEL, Stress.NON_VOWEL, Stress.NON_VOWEL])))),\n",
       " Phrase(words=(Word(word='$A$', phonological_form=PhonologicalWord(phones=('$', 'A', '$', 'i'), stress_pattern=[Stress.NON_VOWEL, Stress.NON_VOWEL, Stress.NON_VOWEL, Stress.NON_VOWEL])), Word(word='$A$', phonological_form=PhonologicalWord(phones=('$', 'A', '$', 'u'), stress_pattern=[Stress.NON_VOWEL, Stress.NON_VOWEL, Stress.NON_VOWEL, Stress.NON_VOWEL])))),\n",
       " Phrase(words=(Word(word='$A$', phonological_form=PhonologicalWord(phones=('$', 'A', '$', 'i'), stress_pattern=[Stress.NON_VOWEL, Stress.NON_VOWEL, Stress.NON_VOWEL, Stress.NON_VOWEL])), Word(word='$A$', phonological_form=PhonologicalWord(phones=('$', 'A', '$', 'u', 'n'), stress_pattern=[Stress.NON_VOWEL, Stress.NON_VOWEL, Stress.NON_VOWEL, Stress.NON_VOWEL, Stress.NON_VOWEL])))),\n",
       " Phrase(words=(Word(word='$A$', phonological_form=PhonologicalWord(phones=('$', 'A', '$', 'i', 'n'), stress_pattern=[Stress.NON_VOWEL, Stress.NON_VOWEL, Stress.NON_VOWEL, Stress.NON_VOWEL, Stress.NON_VOWEL])), Word(word='$A$', phonological_form=PhonologicalWord(phones=('$', 'A', '$'), stress_pattern=[Stress.NON_VOWEL, Stress.NON_VOWEL, Stress.NON_VOWEL])))),\n",
       " Phrase(words=(Word(word='$A$', phonological_form=PhonologicalWord(phones=('$', 'A', '$', 'i', 'n'), stress_pattern=[Stress.NON_VOWEL, Stress.NON_VOWEL, Stress.NON_VOWEL, Stress.NON_VOWEL, Stress.NON_VOWEL])), Word(word='$A$', phonological_form=PhonologicalWord(phones=('$', 'A', '$', 'a'), stress_pattern=[Stress.NON_VOWEL, Stress.NON_VOWEL, Stress.NON_VOWEL, Stress.NON_VOWEL])))),\n",
       " Phrase(words=(Word(word='$A$', phonological_form=PhonologicalWord(phones=('$', 'A', '$', 'i', 'n'), stress_pattern=[Stress.NON_VOWEL, Stress.NON_VOWEL, Stress.NON_VOWEL, Stress.NON_VOWEL, Stress.NON_VOWEL])), Word(word='$A$', phonological_form=PhonologicalWord(phones=('$', 'A', '$', 'i'), stress_pattern=[Stress.NON_VOWEL, Stress.NON_VOWEL, Stress.NON_VOWEL, Stress.NON_VOWEL])))),\n",
       " Phrase(words=(Word(word='$A$', phonological_form=PhonologicalWord(phones=('$', 'A', '$', 'i', 'n'), stress_pattern=[Stress.NON_VOWEL, Stress.NON_VOWEL, Stress.NON_VOWEL, Stress.NON_VOWEL, Stress.NON_VOWEL])), Word(word='$A$', phonological_form=PhonologicalWord(phones=('$', 'A', '$', 'i', 'n'), stress_pattern=[Stress.NON_VOWEL, Stress.NON_VOWEL, Stress.NON_VOWEL, Stress.NON_VOWEL, Stress.NON_VOWEL])))),\n",
       " Phrase(words=(Word(word='$A$', phonological_form=PhonologicalWord(phones=('$', 'A', '$', 'i', 'n'), stress_pattern=[Stress.NON_VOWEL, Stress.NON_VOWEL, Stress.NON_VOWEL, Stress.NON_VOWEL, Stress.NON_VOWEL])), Word(word='$A$', phonological_form=PhonologicalWord(phones=('$', 'A', '$', 'u'), stress_pattern=[Stress.NON_VOWEL, Stress.NON_VOWEL, Stress.NON_VOWEL, Stress.NON_VOWEL])))),\n",
       " Phrase(words=(Word(word='$A$', phonological_form=PhonologicalWord(phones=('$', 'A', '$', 'i', 'n'), stress_pattern=[Stress.NON_VOWEL, Stress.NON_VOWEL, Stress.NON_VOWEL, Stress.NON_VOWEL, Stress.NON_VOWEL])), Word(word='$A$', phonological_form=PhonologicalWord(phones=('$', 'A', '$', 'u', 'n'), stress_pattern=[Stress.NON_VOWEL, Stress.NON_VOWEL, Stress.NON_VOWEL, Stress.NON_VOWEL, Stress.NON_VOWEL])))),\n",
       " Phrase(words=(Word(word='$A$', phonological_form=PhonologicalWord(phones=('$', 'A', '$', 'u'), stress_pattern=[Stress.NON_VOWEL, Stress.NON_VOWEL, Stress.NON_VOWEL, Stress.NON_VOWEL])), Word(word='$A$', phonological_form=PhonologicalWord(phones=('$', 'A', '$'), stress_pattern=[Stress.NON_VOWEL, Stress.NON_VOWEL, Stress.NON_VOWEL])))),\n",
       " Phrase(words=(Word(word='$A$', phonological_form=PhonologicalWord(phones=('$', 'A', '$', 'u'), stress_pattern=[Stress.NON_VOWEL, Stress.NON_VOWEL, Stress.NON_VOWEL, Stress.NON_VOWEL])), Word(word='$A$', phonological_form=PhonologicalWord(phones=('$', 'A', '$', 'a'), stress_pattern=[Stress.NON_VOWEL, Stress.NON_VOWEL, Stress.NON_VOWEL, Stress.NON_VOWEL])))),\n",
       " Phrase(words=(Word(word='$A$', phonological_form=PhonologicalWord(phones=('$', 'A', '$', 'u'), stress_pattern=[Stress.NON_VOWEL, Stress.NON_VOWEL, Stress.NON_VOWEL, Stress.NON_VOWEL])), Word(word='$A$', phonological_form=PhonologicalWord(phones=('$', 'A', '$', 'i'), stress_pattern=[Stress.NON_VOWEL, Stress.NON_VOWEL, Stress.NON_VOWEL, Stress.NON_VOWEL])))),\n",
       " Phrase(words=(Word(word='$A$', phonological_form=PhonologicalWord(phones=('$', 'A', '$', 'u'), stress_pattern=[Stress.NON_VOWEL, Stress.NON_VOWEL, Stress.NON_VOWEL, Stress.NON_VOWEL])), Word(word='$A$', phonological_form=PhonologicalWord(phones=('$', 'A', '$', 'i', 'n'), stress_pattern=[Stress.NON_VOWEL, Stress.NON_VOWEL, Stress.NON_VOWEL, Stress.NON_VOWEL, Stress.NON_VOWEL])))),\n",
       " Phrase(words=(Word(word='$A$', phonological_form=PhonologicalWord(phones=('$', 'A', '$', 'u'), stress_pattern=[Stress.NON_VOWEL, Stress.NON_VOWEL, Stress.NON_VOWEL, Stress.NON_VOWEL])), Word(word='$A$', phonological_form=PhonologicalWord(phones=('$', 'A', '$', 'u'), stress_pattern=[Stress.NON_VOWEL, Stress.NON_VOWEL, Stress.NON_VOWEL, Stress.NON_VOWEL])))),\n",
       " Phrase(words=(Word(word='$A$', phonological_form=PhonologicalWord(phones=('$', 'A', '$', 'u'), stress_pattern=[Stress.NON_VOWEL, Stress.NON_VOWEL, Stress.NON_VOWEL, Stress.NON_VOWEL])), Word(word='$A$', phonological_form=PhonologicalWord(phones=('$', 'A', '$', 'u', 'n'), stress_pattern=[Stress.NON_VOWEL, Stress.NON_VOWEL, Stress.NON_VOWEL, Stress.NON_VOWEL, Stress.NON_VOWEL])))),\n",
       " Phrase(words=(Word(word='$A$', phonological_form=PhonologicalWord(phones=('$', 'A', '$', 'u', 'n'), stress_pattern=[Stress.NON_VOWEL, Stress.NON_VOWEL, Stress.NON_VOWEL, Stress.NON_VOWEL, Stress.NON_VOWEL])), Word(word='$A$', phonological_form=PhonologicalWord(phones=('$', 'A', '$'), stress_pattern=[Stress.NON_VOWEL, Stress.NON_VOWEL, Stress.NON_VOWEL])))),\n",
       " Phrase(words=(Word(word='$A$', phonological_form=PhonologicalWord(phones=('$', 'A', '$', 'u', 'n'), stress_pattern=[Stress.NON_VOWEL, Stress.NON_VOWEL, Stress.NON_VOWEL, Stress.NON_VOWEL, Stress.NON_VOWEL])), Word(word='$A$', phonological_form=PhonologicalWord(phones=('$', 'A', '$', 'a'), stress_pattern=[Stress.NON_VOWEL, Stress.NON_VOWEL, Stress.NON_VOWEL, Stress.NON_VOWEL])))),\n",
       " Phrase(words=(Word(word='$A$', phonological_form=PhonologicalWord(phones=('$', 'A', '$', 'u', 'n'), stress_pattern=[Stress.NON_VOWEL, Stress.NON_VOWEL, Stress.NON_VOWEL, Stress.NON_VOWEL, Stress.NON_VOWEL])), Word(word='$A$', phonological_form=PhonologicalWord(phones=('$', 'A', '$', 'i'), stress_pattern=[Stress.NON_VOWEL, Stress.NON_VOWEL, Stress.NON_VOWEL, Stress.NON_VOWEL])))),\n",
       " Phrase(words=(Word(word='$A$', phonological_form=PhonologicalWord(phones=('$', 'A', '$', 'u', 'n'), stress_pattern=[Stress.NON_VOWEL, Stress.NON_VOWEL, Stress.NON_VOWEL, Stress.NON_VOWEL, Stress.NON_VOWEL])), Word(word='$A$', phonological_form=PhonologicalWord(phones=('$', 'A', '$', 'i', 'n'), stress_pattern=[Stress.NON_VOWEL, Stress.NON_VOWEL, Stress.NON_VOWEL, Stress.NON_VOWEL, Stress.NON_VOWEL])))),\n",
       " Phrase(words=(Word(word='$A$', phonological_form=PhonologicalWord(phones=('$', 'A', '$', 'u', 'n'), stress_pattern=[Stress.NON_VOWEL, Stress.NON_VOWEL, Stress.NON_VOWEL, Stress.NON_VOWEL, Stress.NON_VOWEL])), Word(word='$A$', phonological_form=PhonologicalWord(phones=('$', 'A', '$', 'u'), stress_pattern=[Stress.NON_VOWEL, Stress.NON_VOWEL, Stress.NON_VOWEL, Stress.NON_VOWEL])))),\n",
       " Phrase(words=(Word(word='$A$', phonological_form=PhonologicalWord(phones=('$', 'A', '$', 'u', 'n'), stress_pattern=[Stress.NON_VOWEL, Stress.NON_VOWEL, Stress.NON_VOWEL, Stress.NON_VOWEL, Stress.NON_VOWEL])), Word(word='$A$', phonological_form=PhonologicalWord(phones=('$', 'A', '$', 'u', 'n'), stress_pattern=[Stress.NON_VOWEL, Stress.NON_VOWEL, Stress.NON_VOWEL, Stress.NON_VOWEL, Stress.NON_VOWEL]))))]"
      ]
     },
     "execution_count": 9,
     "metadata": {},
     "output_type": "execute_result"
    }
   ],
   "source": [
    "target_phrases = ArabicUtils.all_possible_phrases_for(arabic_to_buckwalter)\n",
    "target_phrases # check the repetitions"
   ]
  },
  {
   "cell_type": "code",
   "execution_count": 10,
   "metadata": {},
   "outputs": [
    {
     "name": "stdout",
     "output_type": "stream",
     "text": [
      "['', '']\n",
      "['', '']\n",
      "['', '']\n",
      "['', '']\n",
      "['', '']\n",
      "['', '']\n",
      "['', '']\n",
      "['', '']\n",
      "['', '']\n",
      "['', '']\n",
      "['', '']\n",
      "['', '']\n",
      "['', '']\n",
      "['', '']\n",
      "['', '']\n",
      "['', '']\n",
      "['', '']\n",
      "['', '']\n",
      "['', '']\n",
      "['', '']\n",
      "['', '']\n",
      "['', '']\n",
      "['', '']\n",
      "['', '']\n",
      "['', '']\n",
      "['', '']\n",
      "['', '']\n",
      "['', '']\n",
      "['', '']\n",
      "['', '']\n",
      "['', '']\n",
      "['', '']\n",
      "['', '']\n",
      "['', '']\n",
      "['', '']\n",
      "['', '']\n"
     ]
    }
   ],
   "source": [
    "#NOTE: coarse stress does not apply to Arabic\n",
    "for phrase in target_phrases:\n",
    "    print(phrase.coarse_stress)"
   ]
  },
  {
   "cell_type": "code",
   "execution_count": 15,
   "metadata": {},
   "outputs": [
    {
     "data": {
      "text/plain": [
       "[Phrase(words=(Word(word='A$Ad', phonological_form=PhonologicalWord(phones=('G', 'a', '$', 'A', 'd'), stress_pattern=[Stress.NON_VOWEL, Stress.NON_VOWEL, Stress.NON_VOWEL, Stress.NON_VOWEL, Stress.NON_VOWEL])), Word(word='A$Ad', phonological_form=PhonologicalWord(phones=('G', 'a', '$', 'A', 'd'), stress_pattern=[Stress.NON_VOWEL, Stress.NON_VOWEL, Stress.NON_VOWEL, Stress.NON_VOWEL, Stress.NON_VOWEL])))),\n",
       " Phrase(words=(Word(word='A$Ad', phonological_form=PhonologicalWord(phones=('G', 'a', '$', 'A', 'd'), stress_pattern=[Stress.NON_VOWEL, Stress.NON_VOWEL, Stress.NON_VOWEL, Stress.NON_VOWEL, Stress.NON_VOWEL])), Word(word='A$Ad', phonological_form=PhonologicalWord(phones=('G', 'a', '$', 'A', 'd', 'a'), stress_pattern=[Stress.NON_VOWEL, Stress.NON_VOWEL, Stress.NON_VOWEL, Stress.NON_VOWEL, Stress.NON_VOWEL, Stress.NON_VOWEL])))),\n",
       " Phrase(words=(Word(word='A$Ad', phonological_form=PhonologicalWord(phones=('G', 'a', '$', 'A', 'd'), stress_pattern=[Stress.NON_VOWEL, Stress.NON_VOWEL, Stress.NON_VOWEL, Stress.NON_VOWEL, Stress.NON_VOWEL])), Word(word='A$Ad', phonological_form=PhonologicalWord(phones=('G', 'u', '$', 'A', 'd'), stress_pattern=[Stress.NON_VOWEL, Stress.NON_VOWEL, Stress.NON_VOWEL, Stress.NON_VOWEL, Stress.NON_VOWEL])))),\n",
       " Phrase(words=(Word(word='A$Ad', phonological_form=PhonologicalWord(phones=('G', 'a', '$', 'A', 'd'), stress_pattern=[Stress.NON_VOWEL, Stress.NON_VOWEL, Stress.NON_VOWEL, Stress.NON_VOWEL, Stress.NON_VOWEL])), Word(word='A$Ad', phonological_form=PhonologicalWord(phones=('G', 'u', '$', 'A', 'd', 'u'), stress_pattern=[Stress.NON_VOWEL, Stress.NON_VOWEL, Stress.NON_VOWEL, Stress.NON_VOWEL, Stress.NON_VOWEL, Stress.NON_VOWEL])))),\n",
       " Phrase(words=(Word(word='A$Ad', phonological_form=PhonologicalWord(phones=('G', 'a', '$', 'A', 'd', 'a'), stress_pattern=[Stress.NON_VOWEL, Stress.NON_VOWEL, Stress.NON_VOWEL, Stress.NON_VOWEL, Stress.NON_VOWEL, Stress.NON_VOWEL])), Word(word='A$Ad', phonological_form=PhonologicalWord(phones=('G', 'a', '$', 'A', 'd'), stress_pattern=[Stress.NON_VOWEL, Stress.NON_VOWEL, Stress.NON_VOWEL, Stress.NON_VOWEL, Stress.NON_VOWEL])))),\n",
       " Phrase(words=(Word(word='A$Ad', phonological_form=PhonologicalWord(phones=('G', 'a', '$', 'A', 'd', 'a'), stress_pattern=[Stress.NON_VOWEL, Stress.NON_VOWEL, Stress.NON_VOWEL, Stress.NON_VOWEL, Stress.NON_VOWEL, Stress.NON_VOWEL])), Word(word='A$Ad', phonological_form=PhonologicalWord(phones=('G', 'a', '$', 'A', 'd', 'a'), stress_pattern=[Stress.NON_VOWEL, Stress.NON_VOWEL, Stress.NON_VOWEL, Stress.NON_VOWEL, Stress.NON_VOWEL, Stress.NON_VOWEL])))),\n",
       " Phrase(words=(Word(word='A$Ad', phonological_form=PhonologicalWord(phones=('G', 'a', '$', 'A', 'd', 'a'), stress_pattern=[Stress.NON_VOWEL, Stress.NON_VOWEL, Stress.NON_VOWEL, Stress.NON_VOWEL, Stress.NON_VOWEL, Stress.NON_VOWEL])), Word(word='A$Ad', phonological_form=PhonologicalWord(phones=('G', 'u', '$', 'A', 'd'), stress_pattern=[Stress.NON_VOWEL, Stress.NON_VOWEL, Stress.NON_VOWEL, Stress.NON_VOWEL, Stress.NON_VOWEL])))),\n",
       " Phrase(words=(Word(word='A$Ad', phonological_form=PhonologicalWord(phones=('G', 'a', '$', 'A', 'd', 'a'), stress_pattern=[Stress.NON_VOWEL, Stress.NON_VOWEL, Stress.NON_VOWEL, Stress.NON_VOWEL, Stress.NON_VOWEL, Stress.NON_VOWEL])), Word(word='A$Ad', phonological_form=PhonologicalWord(phones=('G', 'u', '$', 'A', 'd', 'u'), stress_pattern=[Stress.NON_VOWEL, Stress.NON_VOWEL, Stress.NON_VOWEL, Stress.NON_VOWEL, Stress.NON_VOWEL, Stress.NON_VOWEL])))),\n",
       " Phrase(words=(Word(word='A$Ad', phonological_form=PhonologicalWord(phones=('G', 'u', '$', 'A', 'd'), stress_pattern=[Stress.NON_VOWEL, Stress.NON_VOWEL, Stress.NON_VOWEL, Stress.NON_VOWEL, Stress.NON_VOWEL])), Word(word='A$Ad', phonological_form=PhonologicalWord(phones=('G', 'a', '$', 'A', 'd'), stress_pattern=[Stress.NON_VOWEL, Stress.NON_VOWEL, Stress.NON_VOWEL, Stress.NON_VOWEL, Stress.NON_VOWEL])))),\n",
       " Phrase(words=(Word(word='A$Ad', phonological_form=PhonologicalWord(phones=('G', 'u', '$', 'A', 'd'), stress_pattern=[Stress.NON_VOWEL, Stress.NON_VOWEL, Stress.NON_VOWEL, Stress.NON_VOWEL, Stress.NON_VOWEL])), Word(word='A$Ad', phonological_form=PhonologicalWord(phones=('G', 'a', '$', 'A', 'd', 'a'), stress_pattern=[Stress.NON_VOWEL, Stress.NON_VOWEL, Stress.NON_VOWEL, Stress.NON_VOWEL, Stress.NON_VOWEL, Stress.NON_VOWEL])))),\n",
       " Phrase(words=(Word(word='A$Ad', phonological_form=PhonologicalWord(phones=('G', 'u', '$', 'A', 'd'), stress_pattern=[Stress.NON_VOWEL, Stress.NON_VOWEL, Stress.NON_VOWEL, Stress.NON_VOWEL, Stress.NON_VOWEL])), Word(word='A$Ad', phonological_form=PhonologicalWord(phones=('G', 'u', '$', 'A', 'd'), stress_pattern=[Stress.NON_VOWEL, Stress.NON_VOWEL, Stress.NON_VOWEL, Stress.NON_VOWEL, Stress.NON_VOWEL])))),\n",
       " Phrase(words=(Word(word='A$Ad', phonological_form=PhonologicalWord(phones=('G', 'u', '$', 'A', 'd'), stress_pattern=[Stress.NON_VOWEL, Stress.NON_VOWEL, Stress.NON_VOWEL, Stress.NON_VOWEL, Stress.NON_VOWEL])), Word(word='A$Ad', phonological_form=PhonologicalWord(phones=('G', 'u', '$', 'A', 'd', 'u'), stress_pattern=[Stress.NON_VOWEL, Stress.NON_VOWEL, Stress.NON_VOWEL, Stress.NON_VOWEL, Stress.NON_VOWEL, Stress.NON_VOWEL])))),\n",
       " Phrase(words=(Word(word='A$Ad', phonological_form=PhonologicalWord(phones=('G', 'u', '$', 'A', 'd', 'u'), stress_pattern=[Stress.NON_VOWEL, Stress.NON_VOWEL, Stress.NON_VOWEL, Stress.NON_VOWEL, Stress.NON_VOWEL, Stress.NON_VOWEL])), Word(word='A$Ad', phonological_form=PhonologicalWord(phones=('G', 'a', '$', 'A', 'd'), stress_pattern=[Stress.NON_VOWEL, Stress.NON_VOWEL, Stress.NON_VOWEL, Stress.NON_VOWEL, Stress.NON_VOWEL])))),\n",
       " Phrase(words=(Word(word='A$Ad', phonological_form=PhonologicalWord(phones=('G', 'u', '$', 'A', 'd', 'u'), stress_pattern=[Stress.NON_VOWEL, Stress.NON_VOWEL, Stress.NON_VOWEL, Stress.NON_VOWEL, Stress.NON_VOWEL, Stress.NON_VOWEL])), Word(word='A$Ad', phonological_form=PhonologicalWord(phones=('G', 'a', '$', 'A', 'd', 'a'), stress_pattern=[Stress.NON_VOWEL, Stress.NON_VOWEL, Stress.NON_VOWEL, Stress.NON_VOWEL, Stress.NON_VOWEL, Stress.NON_VOWEL])))),\n",
       " Phrase(words=(Word(word='A$Ad', phonological_form=PhonologicalWord(phones=('G', 'u', '$', 'A', 'd', 'u'), stress_pattern=[Stress.NON_VOWEL, Stress.NON_VOWEL, Stress.NON_VOWEL, Stress.NON_VOWEL, Stress.NON_VOWEL, Stress.NON_VOWEL])), Word(word='A$Ad', phonological_form=PhonologicalWord(phones=('G', 'u', '$', 'A', 'd'), stress_pattern=[Stress.NON_VOWEL, Stress.NON_VOWEL, Stress.NON_VOWEL, Stress.NON_VOWEL, Stress.NON_VOWEL])))),\n",
       " Phrase(words=(Word(word='A$Ad', phonological_form=PhonologicalWord(phones=('G', 'u', '$', 'A', 'd', 'u'), stress_pattern=[Stress.NON_VOWEL, Stress.NON_VOWEL, Stress.NON_VOWEL, Stress.NON_VOWEL, Stress.NON_VOWEL, Stress.NON_VOWEL])), Word(word='A$Ad', phonological_form=PhonologicalWord(phones=('G', 'u', '$', 'A', 'd', 'u'), stress_pattern=[Stress.NON_VOWEL, Stress.NON_VOWEL, Stress.NON_VOWEL, Stress.NON_VOWEL, Stress.NON_VOWEL, Stress.NON_VOWEL]))))]"
      ]
     },
     "execution_count": 15,
     "metadata": {},
     "output_type": "execute_result"
    }
   ],
   "source": [
    "transcript_phrases = ArabicUtils.all_possible_phrases_for(\n",
    "    ['A$Ad', 'A$Ad']\n",
    ")\n",
    "transcript_phrases"
   ]
  },
  {
   "cell_type": "code",
   "execution_count": 24,
   "metadata": {},
   "outputs": [
    {
     "data": {
      "text/plain": [
       "['$', 'A', '$', '$', 'A', '$']"
      ]
     },
     "execution_count": 24,
     "metadata": {},
     "output_type": "execute_result"
    }
   ],
   "source": [
    "# get first target\n",
    "target = target_phrases[0]\n",
    "target.phones"
   ]
  },
  {
   "cell_type": "code",
   "execution_count": 18,
   "metadata": {},
   "outputs": [
    {
     "data": {
      "text/plain": [
       "Phrase(words=(Word(word='A$Ad', phonological_form=PhonologicalWord(phones=('G', 'a', '$', 'A', 'd'), stress_pattern=[Stress.NON_VOWEL, Stress.NON_VOWEL, Stress.NON_VOWEL, Stress.NON_VOWEL, Stress.NON_VOWEL])), Word(word='A$Ad', phonological_form=PhonologicalWord(phones=('G', 'a', '$', 'A', 'd'), stress_pattern=[Stress.NON_VOWEL, Stress.NON_VOWEL, Stress.NON_VOWEL, Stress.NON_VOWEL, Stress.NON_VOWEL]))))"
      ]
     },
     "execution_count": 18,
     "metadata": {},
     "output_type": "execute_result"
    }
   ],
   "source": [
    "transcript = transcript_phrases[0]\n",
    "transcript"
   ]
  },
  {
   "cell_type": "code",
   "execution_count": 19,
   "metadata": {},
   "outputs": [],
   "source": [
    "aligner = ReAline()"
   ]
  },
  {
   "cell_type": "code",
   "execution_count": 20,
   "metadata": {},
   "outputs": [
    {
     "data": {
      "text/plain": [
       "'ʃaːʃʃaːʃ'"
      ]
     },
     "execution_count": 20,
     "metadata": {},
     "output_type": "execute_result"
    }
   ],
   "source": [
    "target_phones = Converter.convert_buckwalter_to_ipa(target.phones)\n",
    "target_phones"
   ]
  },
  {
   "cell_type": "code",
   "execution_count": 25,
   "metadata": {},
   "outputs": [
    {
     "data": {
      "text/plain": [
       "'ʔaʃaːdʔaʃaːd'"
      ]
     },
     "execution_count": 25,
     "metadata": {},
     "output_type": "execute_result"
    }
   ],
   "source": [
    "transcript_phones = Converter.convert_buckwalter_to_ipa(transcript.phones)\n",
    "transcript_phones"
   ]
  },
  {
   "cell_type": "code",
   "execution_count": 26,
   "metadata": {},
   "outputs": [
    {
     "ename": "KeyError",
     "evalue": "'ː'",
     "output_type": "error",
     "traceback": [
      "\u001b[0;31m---------------------------------------------------------------------------\u001b[0m",
      "\u001b[0;31mKeyError\u001b[0m                                  Traceback (most recent call last)",
      "Cell \u001b[0;32mIn[26], line 1\u001b[0m\n\u001b[0;32m----> 1\u001b[0m alignment \u001b[39m=\u001b[39m aligner\u001b[39m.\u001b[39;49malign(target_phones, transcript_phones)\n",
      "File \u001b[0;32m~/Desktop/clu-phontools/clu/phontools/alignment/realine.py:277\u001b[0m, in \u001b[0;36mReAline.align\u001b[0;34m(self, seq1, seq2, epsilon)\u001b[0m\n\u001b[1;32m    275\u001b[0m edit1 \u001b[39m=\u001b[39m S[i \u001b[39m-\u001b[39m \u001b[39m1\u001b[39m, j] \u001b[39m+\u001b[39m \u001b[39mself\u001b[39m\u001b[39m.\u001b[39msigma_skip(seq1[i \u001b[39m-\u001b[39m \u001b[39m1\u001b[39m])\n\u001b[1;32m    276\u001b[0m edit2 \u001b[39m=\u001b[39m S[i, j \u001b[39m-\u001b[39m \u001b[39m1\u001b[39m] \u001b[39m+\u001b[39m \u001b[39mself\u001b[39m\u001b[39m.\u001b[39msigma_skip(seq2[j \u001b[39m-\u001b[39m \u001b[39m1\u001b[39m])\n\u001b[0;32m--> 277\u001b[0m edit3 \u001b[39m=\u001b[39m S[i \u001b[39m-\u001b[39m \u001b[39m1\u001b[39m, j \u001b[39m-\u001b[39m \u001b[39m1\u001b[39m] \u001b[39m+\u001b[39m \u001b[39mself\u001b[39;49m\u001b[39m.\u001b[39;49msigma_sub(seq1[i \u001b[39m-\u001b[39;49m \u001b[39m1\u001b[39;49m], seq2[j \u001b[39m-\u001b[39;49m \u001b[39m1\u001b[39;49m])\n\u001b[1;32m    278\u001b[0m \u001b[39mif\u001b[39;00m i \u001b[39m>\u001b[39m \u001b[39m1\u001b[39m:\n\u001b[1;32m    279\u001b[0m     edit4 \u001b[39m=\u001b[39m S[i \u001b[39m-\u001b[39m \u001b[39m2\u001b[39m, j \u001b[39m-\u001b[39m \u001b[39m1\u001b[39m] \u001b[39m+\u001b[39m \u001b[39mself\u001b[39m\u001b[39m.\u001b[39msigma_exp(\n\u001b[1;32m    280\u001b[0m         seq2[j \u001b[39m-\u001b[39m \u001b[39m1\u001b[39m], seq1[i \u001b[39m-\u001b[39m \u001b[39m2\u001b[39m : i]\n\u001b[1;32m    281\u001b[0m     )\n",
      "File \u001b[0;32m~/Desktop/clu-phontools/clu/phontools/alignment/realine.py:167\u001b[0m, in \u001b[0;36mReAline.sigma_sub\u001b[0;34m(self, p, q)\u001b[0m\n\u001b[1;32m    162\u001b[0m \u001b[39mdef\u001b[39;00m \u001b[39msigma_sub\u001b[39m(\u001b[39mself\u001b[39m, p: Text, q: Text) \u001b[39m-\u001b[39m\u001b[39m>\u001b[39m \u001b[39mint\u001b[39m:\n\u001b[1;32m    163\u001b[0m \u001b[39m    \u001b[39m\u001b[39m\"\"\"\u001b[39;00m\n\u001b[1;32m    164\u001b[0m \u001b[39m    Returns score of a substitution of P with Q.\u001b[39;00m\n\u001b[1;32m    165\u001b[0m \u001b[39m    (Kondrak 2002: 54)\u001b[39;00m\n\u001b[1;32m    166\u001b[0m \u001b[39m    \"\"\"\u001b[39;00m\n\u001b[0;32m--> 167\u001b[0m     \u001b[39mreturn\u001b[39;00m \u001b[39mself\u001b[39m\u001b[39m.\u001b[39mC_sub \u001b[39m-\u001b[39m \u001b[39mself\u001b[39;49m\u001b[39m.\u001b[39;49mdelta(p, q) \u001b[39m-\u001b[39m \u001b[39mself\u001b[39m\u001b[39m.\u001b[39mV(p) \u001b[39m-\u001b[39m \u001b[39mself\u001b[39m\u001b[39m.\u001b[39mV(q)\n",
      "File \u001b[0;32m~/Desktop/clu-phontools/clu/phontools/alignment/realine.py:159\u001b[0m, in \u001b[0;36mReAline.delta\u001b[0;34m(self, p, q)\u001b[0m\n\u001b[1;32m    157\u001b[0m total \u001b[39m=\u001b[39m \u001b[39m0\u001b[39m\n\u001b[1;32m    158\u001b[0m \u001b[39mfor\u001b[39;00m f \u001b[39min\u001b[39;00m features:\n\u001b[0;32m--> 159\u001b[0m     total \u001b[39m+\u001b[39m\u001b[39m=\u001b[39m \u001b[39mself\u001b[39;49m\u001b[39m.\u001b[39;49mdiff(p, q, f) \u001b[39m*\u001b[39m \u001b[39mself\u001b[39m\u001b[39m.\u001b[39msalience[f]\n\u001b[1;32m    160\u001b[0m \u001b[39mreturn\u001b[39;00m total\n",
      "File \u001b[0;32m~/Desktop/clu-phontools/clu/phontools/alignment/realine.py:145\u001b[0m, in \u001b[0;36mReAline.diff\u001b[0;34m(self, p, q, f)\u001b[0m\n\u001b[1;32m    140\u001b[0m \u001b[39mdef\u001b[39;00m \u001b[39mdiff\u001b[39m(\u001b[39mself\u001b[39m, p: Text, q: Text, f: Text) \u001b[39m-\u001b[39m\u001b[39m>\u001b[39m \u001b[39mint\u001b[39m:\n\u001b[1;32m    141\u001b[0m \u001b[39m    \u001b[39m\u001b[39m\"\"\"\u001b[39;00m\n\u001b[1;32m    142\u001b[0m \u001b[39m    Returns difference between phonetic segments P and Q for feature F.\u001b[39;00m\n\u001b[1;32m    143\u001b[0m \u001b[39m    (Kondrak 2002: 52, 54)\u001b[39;00m\n\u001b[1;32m    144\u001b[0m \u001b[39m    \"\"\"\u001b[39;00m\n\u001b[0;32m--> 145\u001b[0m     p_features, q_features \u001b[39m=\u001b[39m \u001b[39mself\u001b[39m\u001b[39m.\u001b[39mfeature_matrix[p], \u001b[39mself\u001b[39;49m\u001b[39m.\u001b[39;49mfeature_matrix[q]\n\u001b[1;32m    146\u001b[0m     \u001b[39mreturn\u001b[39;00m \u001b[39mabs\u001b[39m(\n\u001b[1;32m    147\u001b[0m         \u001b[39mself\u001b[39m\u001b[39m.\u001b[39msimilarity_matrix[p_features[f]]\n\u001b[1;32m    148\u001b[0m         \u001b[39m-\u001b[39m \u001b[39mself\u001b[39m\u001b[39m.\u001b[39msimilarity_matrix[q_features[f]]\n\u001b[1;32m    149\u001b[0m     )\n",
      "\u001b[0;31mKeyError\u001b[0m: 'ː'"
     ]
    }
   ],
   "source": [
    "alignment = aligner.align(target_phones, transcript_phones)"
   ]
  },
  {
   "cell_type": "code",
   "execution_count": null,
   "metadata": {},
   "outputs": [],
   "source": []
  }
 ],
 "metadata": {
  "kernelspec": {
   "display_name": "phonetools",
   "language": "python",
   "name": "python3"
  },
  "language_info": {
   "codemirror_mode": {
    "name": "ipython",
    "version": 3
   },
   "file_extension": ".py",
   "mimetype": "text/x-python",
   "name": "python",
   "nbconvert_exporter": "python",
   "pygments_lexer": "ipython3",
   "version": "3.8.17"
  },
  "orig_nbformat": 4
 },
 "nbformat": 4,
 "nbformat_minor": 2
}
