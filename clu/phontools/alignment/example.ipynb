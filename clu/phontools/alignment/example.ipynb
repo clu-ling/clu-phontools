{
 "cells": [
  {
   "cell_type": "markdown",
   "metadata": {},
   "source": [
    "# Example of using ReAline"
   ]
  },
  {
   "cell_type": "code",
   "execution_count": 18,
   "metadata": {},
   "outputs": [],
   "source": [
    "from clu.phontools.lang.en import EnglishUtils\n",
    "from clu.phontools.struct import *\n",
    "from clu.phontools.pronouncing import ConverterUtils\n",
    "from clu.phontools.alignment.realine import *\n",
    "from clu.phontools.alignment.lbe import *\n",
    "import random"
   ]
  },
  {
   "cell_type": "markdown",
   "metadata": {},
   "source": [
    "# Target and Transcript as strings"
   ]
  },
  {
   "cell_type": "code",
   "execution_count": 19,
   "metadata": {},
   "outputs": [],
   "source": [
    "target = \"cat in the hat\"\n",
    "transcript = \"canyon hat\""
   ]
  },
  {
   "cell_type": "markdown",
   "metadata": {},
   "source": [
    "# 1) Get the ARBABET phrases from cmu"
   ]
  },
  {
   "cell_type": "code",
   "execution_count": 20,
   "metadata": {},
   "outputs": [
    {
     "data": {
      "text/plain": [
       "[Phrase(words=(Word(word='cat', phonological_form=PhonologicalWord(phones=('K', 'AE1', 'T'), stress_pattern=[Stress.NON_VOWEL, Stress.PRIMARY, Stress.NON_VOWEL])), Word(word='in', phonological_form=PhonologicalWord(phones=('IH0', 'N'), stress_pattern=[Stress.NO_STRESS, Stress.NON_VOWEL])), Word(word='the', phonological_form=PhonologicalWord(phones=('DH', 'AH0'), stress_pattern=[Stress.NON_VOWEL, Stress.NO_STRESS])), Word(word='hat', phonological_form=PhonologicalWord(phones=('HH', 'AE1', 'T'), stress_pattern=[Stress.NON_VOWEL, Stress.PRIMARY, Stress.NON_VOWEL])))),\n",
       " Phrase(words=(Word(word='cat', phonological_form=PhonologicalWord(phones=('K', 'AE1', 'T'), stress_pattern=[Stress.NON_VOWEL, Stress.PRIMARY, Stress.NON_VOWEL])), Word(word='in', phonological_form=PhonologicalWord(phones=('IH0', 'N'), stress_pattern=[Stress.NO_STRESS, Stress.NON_VOWEL])), Word(word='the', phonological_form=PhonologicalWord(phones=('DH', 'AH1'), stress_pattern=[Stress.NON_VOWEL, Stress.PRIMARY])), Word(word='hat', phonological_form=PhonologicalWord(phones=('HH', 'AE1', 'T'), stress_pattern=[Stress.NON_VOWEL, Stress.PRIMARY, Stress.NON_VOWEL])))),\n",
       " Phrase(words=(Word(word='cat', phonological_form=PhonologicalWord(phones=('K', 'AE1', 'T'), stress_pattern=[Stress.NON_VOWEL, Stress.PRIMARY, Stress.NON_VOWEL])), Word(word='in', phonological_form=PhonologicalWord(phones=('IH0', 'N'), stress_pattern=[Stress.NO_STRESS, Stress.NON_VOWEL])), Word(word='the', phonological_form=PhonologicalWord(phones=('DH', 'IY0'), stress_pattern=[Stress.NON_VOWEL, Stress.NO_STRESS])), Word(word='hat', phonological_form=PhonologicalWord(phones=('HH', 'AE1', 'T'), stress_pattern=[Stress.NON_VOWEL, Stress.PRIMARY, Stress.NON_VOWEL])))),\n",
       " Phrase(words=(Word(word='cat', phonological_form=PhonologicalWord(phones=('K', 'AE1', 'T'), stress_pattern=[Stress.NON_VOWEL, Stress.PRIMARY, Stress.NON_VOWEL])), Word(word='in', phonological_form=PhonologicalWord(phones=('IH1', 'N'), stress_pattern=[Stress.PRIMARY, Stress.NON_VOWEL])), Word(word='the', phonological_form=PhonologicalWord(phones=('DH', 'AH0'), stress_pattern=[Stress.NON_VOWEL, Stress.NO_STRESS])), Word(word='hat', phonological_form=PhonologicalWord(phones=('HH', 'AE1', 'T'), stress_pattern=[Stress.NON_VOWEL, Stress.PRIMARY, Stress.NON_VOWEL])))),\n",
       " Phrase(words=(Word(word='cat', phonological_form=PhonologicalWord(phones=('K', 'AE1', 'T'), stress_pattern=[Stress.NON_VOWEL, Stress.PRIMARY, Stress.NON_VOWEL])), Word(word='in', phonological_form=PhonologicalWord(phones=('IH1', 'N'), stress_pattern=[Stress.PRIMARY, Stress.NON_VOWEL])), Word(word='the', phonological_form=PhonologicalWord(phones=('DH', 'AH1'), stress_pattern=[Stress.NON_VOWEL, Stress.PRIMARY])), Word(word='hat', phonological_form=PhonologicalWord(phones=('HH', 'AE1', 'T'), stress_pattern=[Stress.NON_VOWEL, Stress.PRIMARY, Stress.NON_VOWEL])))),\n",
       " Phrase(words=(Word(word='cat', phonological_form=PhonologicalWord(phones=('K', 'AE1', 'T'), stress_pattern=[Stress.NON_VOWEL, Stress.PRIMARY, Stress.NON_VOWEL])), Word(word='in', phonological_form=PhonologicalWord(phones=('IH1', 'N'), stress_pattern=[Stress.PRIMARY, Stress.NON_VOWEL])), Word(word='the', phonological_form=PhonologicalWord(phones=('DH', 'IY0'), stress_pattern=[Stress.NON_VOWEL, Stress.NO_STRESS])), Word(word='hat', phonological_form=PhonologicalWord(phones=('HH', 'AE1', 'T'), stress_pattern=[Stress.NON_VOWEL, Stress.PRIMARY, Stress.NON_VOWEL]))))]"
      ]
     },
     "execution_count": 20,
     "metadata": {},
     "output_type": "execute_result"
    }
   ],
   "source": [
    "target_phrases = EnglishUtils.all_possible_phrases_for(target.split())\n",
    "target_phrases\n"
   ]
  },
  {
   "cell_type": "markdown",
   "metadata": {},
   "source": [
    "# 2) get the ARBABET phones"
   ]
  },
  {
   "cell_type": "code",
   "execution_count": 21,
   "metadata": {},
   "outputs": [
    {
     "name": "stdout",
     "output_type": "stream",
     "text": [
      "[['K', 'AE1', 'T', 'IH0', 'N', 'DH', 'AH0', 'HH', 'AE1', 'T'], ['K', 'AE1', 'T', 'IH0', 'N', 'DH', 'AH1', 'HH', 'AE1', 'T'], ['K', 'AE1', 'T', 'IH0', 'N', 'DH', 'IY0', 'HH', 'AE1', 'T'], ['K', 'AE1', 'T', 'IH1', 'N', 'DH', 'AH0', 'HH', 'AE1', 'T'], ['K', 'AE1', 'T', 'IH1', 'N', 'DH', 'AH1', 'HH', 'AE1', 'T'], ['K', 'AE1', 'T', 'IH1', 'N', 'DH', 'IY0', 'HH', 'AE1', 'T']]\n",
      "\n",
      "[['K', 'AE1', 'N', 'Y', 'AH0', 'N', 'HH', 'AE1', 'T']]\n"
     ]
    }
   ],
   "source": [
    "def arpabet_phones(phrase):\n",
    "    return [list(phrase.phones) for phrase in EnglishUtils.all_possible_phrases_for(phrase)]\n",
    "\n",
    "target = arpabet_phones(target.split())\n",
    "transcript = arpabet_phones(transcript.split())\n",
    "\n",
    "print(target) \n",
    "print()\n",
    "print(transcript)"
   ]
  },
  {
   "cell_type": "markdown",
   "metadata": {},
   "source": [
    "# 3) select a random item"
   ]
  },
  {
   "cell_type": "code",
   "execution_count": 22,
   "metadata": {},
   "outputs": [
    {
     "name": "stdout",
     "output_type": "stream",
     "text": [
      "['K', 'AE1', 'T', 'IH1', 'N', 'DH', 'AH0', 'HH', 'AE1', 'T']\n",
      "\n",
      "['K', 'AE1', 'N', 'Y', 'AH0', 'N', 'HH', 'AE1', 'T']\n"
     ]
    }
   ],
   "source": [
    "def random_item(phones):\n",
    "    return random.choice(phones)\n",
    "\n",
    "target = random_item(target)\n",
    "transcript = random_item(transcript)\n",
    "\n",
    "print(target) \n",
    "print()\n",
    "print(transcript)"
   ]
  },
  {
   "cell_type": "markdown",
   "metadata": {},
   "source": [
    "# 4) get IPA for both target and transcript"
   ]
  },
  {
   "cell_type": "code",
   "execution_count": 25,
   "metadata": {},
   "outputs": [
    {
     "name": "stdout",
     "output_type": "stream",
     "text": [
      "['k', 'æ', 't', 'i', 'n', 'ð', 'ʌ', 'h', 'æ', 't']\n",
      "\n",
      "['k', 'æ', 'n', 'j', 'ʌ', 'n', 'h', 'æ', 't']\n"
     ]
    }
   ],
   "source": [
    "target_phones = [ConverterUtils.arpabet_to_ipa(phone) for phone in target]\n",
    "transcript_phones = [ConverterUtils.arpabet_to_ipa(phone) for phone in transcript]\n",
    "\n",
    "print(target_phones)\n",
    "print()\n",
    "print(transcript_phones)"
   ]
  },
  {
   "cell_type": "markdown",
   "metadata": {},
   "source": [
    "# 5) Realine"
   ]
  },
  {
   "cell_type": "code",
   "execution_count": 26,
   "metadata": {},
   "outputs": [
    {
     "data": {
      "text/plain": [
       "[('k', 'k'),\n",
       " ('æ', 'æ'),\n",
       " ('t', '-'),\n",
       " ('i', '-'),\n",
       " ('n', 'n'),\n",
       " ('ð', '-'),\n",
       " ('-', 'j'),\n",
       " ('ʌ', 'ʌ'),\n",
       " ('-', 'n'),\n",
       " ('h', 'h'),\n",
       " ('æ', 'æ'),\n",
       " ('t', 't')]"
      ]
     },
     "execution_count": 26,
     "metadata": {},
     "output_type": "execute_result"
    }
   ],
   "source": [
    "realine = ReAline()\n",
    "\n",
    "res = realine.align(target_phones, transcript_phones)\n",
    "res"
   ]
  },
  {
   "cell_type": "code",
   "execution_count": null,
   "metadata": {},
   "outputs": [],
   "source": []
  }
 ],
 "metadata": {
  "interpreter": {
   "hash": "735cbc8366dd608f7e7978fe3621448fde43132650932f07a5fb7f7c6c2c0e7f"
  },
  "kernelspec": {
   "display_name": "Python 3.8.11 64-bit ('clu-phontools': conda)",
   "name": "python3"
  },
  "language_info": {
   "codemirror_mode": {
    "name": "ipython",
    "version": 3
   },
   "file_extension": ".py",
   "mimetype": "text/x-python",
   "name": "python",
   "nbconvert_exporter": "python",
   "pygments_lexer": "ipython3",
   "version": "3.8.11"
  },
  "orig_nbformat": 4
 },
 "nbformat": 4,
 "nbformat_minor": 2
}
