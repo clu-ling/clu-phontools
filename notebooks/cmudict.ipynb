{
 "cells": [
  {
   "cell_type": "code",
   "execution_count": 28,
   "metadata": {},
   "outputs": [],
   "source": [
    "import pandas as pd\n",
    "import nltk\n",
    "cmu = nltk.corpus.cmudict.dict() "
   ]
  },
  {
   "cell_type": "code",
   "execution_count": 29,
   "metadata": {},
   "outputs": [],
   "source": [
    "# read the data\n",
    "def read_files(path):\n",
    "    file = pd.read_csv(path,'\\t')\n",
    "    print('The shape of the data: ', file.shape)\n",
    "    return file"
   ]
  },
  {
   "cell_type": "code",
   "execution_count": 17,
   "metadata": {},
   "outputs": [
    {
     "name": "stdout",
     "output_type": "stream",
     "text": [
      "The shape of the data:  (2378, 2)\n"
     ]
    }
   ],
   "source": [
    "data = read_files('pred-bad.txt')"
   ]
  },
  {
   "cell_type": "code",
   "execution_count": 30,
   "metadata": {},
   "outputs": [
    {
     "data": {
      "text/html": [
       "<div>\n",
       "<style scoped>\n",
       "    .dataframe tbody tr th:only-of-type {\n",
       "        vertical-align: middle;\n",
       "    }\n",
       "\n",
       "    .dataframe tbody tr th {\n",
       "        vertical-align: top;\n",
       "    }\n",
       "\n",
       "    .dataframe thead th {\n",
       "        text-align: right;\n",
       "    }\n",
       "</style>\n",
       "<table border=\"1\" class=\"dataframe\">\n",
       "  <thead>\n",
       "    <tr style=\"text-align: right;\">\n",
       "      <th></th>\n",
       "      <th>Predicted Words</th>\n",
       "      <th>Bad Words</th>\n",
       "    </tr>\n",
       "  </thead>\n",
       "  <tbody>\n",
       "    <tr>\n",
       "      <th>0</th>\n",
       "      <td>achieving</td>\n",
       "      <td>acheaving</td>\n",
       "    </tr>\n",
       "    <tr>\n",
       "      <th>1</th>\n",
       "      <td>advancements</td>\n",
       "      <td>advancesments</td>\n",
       "    </tr>\n",
       "  </tbody>\n",
       "</table>\n",
       "</div>"
      ],
      "text/plain": [
       "  Predicted Words      Bad Words\n",
       "0       achieving      acheaving\n",
       "1    advancements  advancesments"
      ]
     },
     "execution_count": 30,
     "metadata": {},
     "output_type": "execute_result"
    }
   ],
   "source": [
    "data[:2]"
   ]
  },
  {
   "cell_type": "code",
   "execution_count": 31,
   "metadata": {},
   "outputs": [],
   "source": [
    "predicted_words = data['Predicted Words'].tolist()"
   ]
  },
  {
   "cell_type": "code",
   "execution_count": 32,
   "metadata": {},
   "outputs": [],
   "source": [
    "bad_words = data['Bad Words'].tolist()"
   ]
  },
  {
   "cell_type": "code",
   "execution_count": 33,
   "metadata": {},
   "outputs": [
    {
     "name": "stdout",
     "output_type": "stream",
     "text": [
      "['AH0', 'CH', 'IY1', 'V', 'IH0', 'NG']\n",
      "['AH0', 'D', 'V', 'AE1', 'N', 'S', 'M', 'AH0', 'N', 'T', 'S']\n",
      "['AH0', 'D', 'V', 'AE1', 'N', 'S', 'T']\n",
      "['AH0', 'V', 'OY1', 'D']\n",
      "['AE1', 'F', 'T', 'ER0']\n",
      "['AE1', 'F', 'T', 'ER0']\n",
      "['AH0', 'G', 'EH1', 'N']\n",
      "['AH0', 'L', 'AY1', 'AH0', 'N', 'S']\n",
      "['AH0', 'M', 'EH1', 'N', 'D', 'AH0', 'D']\n",
      "['AH0', 'M', 'EH1', 'N', 'D', 'AH0', 'D']\n",
      "['AH0', 'M', 'EH1', 'N', 'D']\n",
      "['AH0', 'M', 'EH1', 'N', 'D']\n",
      "['AH0', 'M', 'EH1', 'N', 'D']\n",
      "['AH0', 'M', 'EH1', 'N', 'D']\n",
      "['AH0', 'M', 'EH1', 'N', 'D']\n",
      "['AH0', 'M', 'EH1', 'N', 'D']\n",
      "['AH0', 'M', 'EH1', 'N', 'D']\n",
      "['AH0', 'M', 'EH1', 'N', 'D']\n",
      "['AH0', 'M', 'EH1', 'N', 'D']\n",
      "['AH0', 'M', 'EH1', 'N', 'D']\n",
      "['AH0', 'M', 'EH1', 'N', 'D']\n",
      "['AH0', 'M', 'EH1', 'N', 'D']\n",
      "['AH0', 'M', 'EH1', 'N', 'D']\n",
      "['AH0', 'M', 'EH1', 'N', 'D']\n",
      "['AH0', 'M', 'EH1', 'N', 'D']\n",
      "['AH0', 'M', 'EH1', 'N', 'D']\n",
      "['AH0', 'M', 'EH1', 'N', 'D']\n",
      "['AH0', 'M', 'EH1', 'N', 'D']\n",
      "['AH0', 'M', 'EH1', 'N', 'D']\n",
      "['AH0', 'M', 'EH1', 'N', 'D']\n",
      "['AH0', 'M', 'EH1', 'N', 'D']\n",
      "['AH0', 'M', 'EH1', 'N', 'D']\n",
      "['AH0', 'M', 'EH1', 'N', 'D']\n",
      "['AH0', 'M', 'EH1', 'N', 'D']\n",
      "['AH0', 'M', 'EH1', 'N', 'D']\n",
      "['AH0', 'M', 'EH1', 'N', 'D']\n",
      "['AH0', 'M', 'EH1', 'N', 'D']\n",
      "['AH0', 'M', 'EH1', 'N', 'D']\n",
      "['AH0', 'M', 'EH1', 'N', 'D']\n",
      "['AH0', 'M', 'EH1', 'N', 'D']\n",
      "['AH0', 'M', 'EH1', 'N', 'D']\n",
      "['AH0', 'M', 'EH1', 'N', 'D']\n",
      "['AH0', 'M', 'EH1', 'N', 'D']\n",
      "['AH0', 'M', 'EH1', 'N', 'D']\n",
      "['AH0', 'M', 'EH1', 'N', 'D']\n",
      "['AH0', 'M', 'EH1', 'N', 'D']\n",
      "['AH0', 'M', 'EH1', 'N', 'D']\n",
      "['AH0', 'M', 'EH1', 'N', 'D']\n",
      "['AH0', 'M', 'EH1', 'N', 'D']\n",
      "['AH0', 'M', 'EH1', 'N', 'D']\n",
      "['AH0', 'M', 'EH1', 'N', 'D']\n",
      "['AH0', 'M', 'EH1', 'N', 'D']\n",
      "['AH0', 'M', 'EH1', 'N', 'D']\n",
      "['AH0', 'M', 'EH1', 'N', 'D']\n",
      "['AH0', 'M', 'EH1', 'N', 'D']\n",
      "['AH0', 'M', 'EH1', 'N', 'D']\n",
      "['AH0', 'M', 'EH1', 'N', 'D']\n",
      "['AH0', 'M', 'EH1', 'N', 'D']\n",
      "['AH0', 'M', 'EH1', 'N', 'D']\n",
      "['AH0', 'M', 'EH1', 'N', 'D']\n",
      "['AH0', 'M', 'EH1', 'N', 'D']\n",
      "['AH0', 'M', 'EH1', 'N', 'D']\n",
      "['AH0', 'M', 'EH1', 'N', 'D']\n",
      "['AH0', 'M', 'EH1', 'N', 'D']\n",
      "['AH0', 'M', 'EH1', 'N', 'D']\n",
      "['AH0', 'M', 'EH1', 'N', 'D']\n",
      "['AH0', 'M', 'EH1', 'N', 'D']\n",
      "['AH0', 'M', 'EH1', 'N', 'D']\n",
      "['AH0', 'M', 'EH1', 'N', 'D']\n",
      "['AH0', 'M', 'EH1', 'N', 'D']\n",
      "['AH0', 'M', 'EH1', 'N', 'D']\n",
      "['AH0', 'M', 'EH1', 'N', 'D']\n",
      "['AH0', 'M', 'EH1', 'N', 'D']\n",
      "['AH0', 'M', 'EH1', 'N', 'D']\n",
      "['AH0', 'M', 'EH1', 'N', 'D']\n",
      "['AH0', 'M', 'EH1', 'N', 'D']\n",
      "['AH0', 'M', 'EH1', 'N', 'D']\n",
      "['AH0', 'M', 'EH1', 'N', 'D']\n",
      "['AH0', 'M', 'EH1', 'N', 'D']\n",
      "['AH0', 'M', 'EH1', 'N', 'D']\n"
     ]
    },
    {
     "ename": "KeyError",
     "evalue": "'amend approach'",
     "output_type": "error",
     "traceback": [
      "\u001b[0;31m---------------------------------------------------------------------------\u001b[0m",
      "\u001b[0;31mKeyError\u001b[0m                                  Traceback (most recent call last)",
      "\u001b[0;32m<ipython-input-33-d63f45583fc5>\u001b[0m in \u001b[0;36m<module>\u001b[0;34m\u001b[0m\n\u001b[1;32m      1\u001b[0m \u001b[0;32mfor\u001b[0m \u001b[0mword\u001b[0m \u001b[0;32min\u001b[0m \u001b[0mpredicted_words\u001b[0m\u001b[0;34m:\u001b[0m\u001b[0;34m\u001b[0m\u001b[0;34m\u001b[0m\u001b[0m\n\u001b[0;32m----> 2\u001b[0;31m     \u001b[0mprint\u001b[0m\u001b[0;34m(\u001b[0m\u001b[0mcmu\u001b[0m\u001b[0;34m[\u001b[0m\u001b[0mword\u001b[0m\u001b[0;34m]\u001b[0m\u001b[0;34m[\u001b[0m\u001b[0;36m0\u001b[0m\u001b[0;34m]\u001b[0m\u001b[0;34m)\u001b[0m\u001b[0;34m\u001b[0m\u001b[0;34m\u001b[0m\u001b[0m\n\u001b[0m",
      "\u001b[0;31mKeyError\u001b[0m: 'amend approach'"
     ]
    }
   ],
   "source": [
    "# getting pronunciations for the predcited words\n",
    "for word in predicted_words:\n",
    "    print(cmu[word][0])"
   ]
  },
  {
   "cell_type": "code",
   "execution_count": 34,
   "metadata": {},
   "outputs": [
    {
     "ename": "KeyError",
     "evalue": "'acheaving'",
     "output_type": "error",
     "traceback": [
      "\u001b[0;31m---------------------------------------------------------------------------\u001b[0m",
      "\u001b[0;31mKeyError\u001b[0m                                  Traceback (most recent call last)",
      "\u001b[0;32m<ipython-input-34-e9a3de35d961>\u001b[0m in \u001b[0;36m<module>\u001b[0;34m\u001b[0m\n\u001b[1;32m      1\u001b[0m \u001b[0;31m# getting pronunciations for the bad words\u001b[0m\u001b[0;34m\u001b[0m\u001b[0;34m\u001b[0m\u001b[0;34m\u001b[0m\u001b[0m\n\u001b[1;32m      2\u001b[0m \u001b[0;32mfor\u001b[0m \u001b[0mword\u001b[0m \u001b[0;32min\u001b[0m \u001b[0mbad_words\u001b[0m\u001b[0;34m:\u001b[0m\u001b[0;34m\u001b[0m\u001b[0;34m\u001b[0m\u001b[0m\n\u001b[0;32m----> 3\u001b[0;31m     \u001b[0mprint\u001b[0m\u001b[0;34m(\u001b[0m\u001b[0mcmu\u001b[0m\u001b[0;34m[\u001b[0m\u001b[0mword\u001b[0m\u001b[0;34m]\u001b[0m\u001b[0;34m[\u001b[0m\u001b[0;36m0\u001b[0m\u001b[0;34m]\u001b[0m\u001b[0;34m)\u001b[0m\u001b[0;34m\u001b[0m\u001b[0;34m\u001b[0m\u001b[0m\n\u001b[0m",
      "\u001b[0;31mKeyError\u001b[0m: 'acheaving'"
     ]
    }
   ],
   "source": [
    "# getting pronunciations for the bad words\n",
    "for word in bad_words:\n",
    "    print(cmu[word][0])"
   ]
  },
  {
   "cell_type": "code",
   "execution_count": null,
   "metadata": {},
   "outputs": [],
   "source": []
  }
 ],
 "metadata": {
  "kernelspec": {
   "display_name": "Python 3",
   "language": "python",
   "name": "python3"
  },
  "language_info": {
   "codemirror_mode": {
    "name": "ipython",
    "version": 3
   },
   "file_extension": ".py",
   "mimetype": "text/x-python",
   "name": "python",
   "nbconvert_exporter": "python",
   "pygments_lexer": "ipython3",
   "version": "3.7.3"
  }
 },
 "nbformat": 4,
 "nbformat_minor": 2
}
