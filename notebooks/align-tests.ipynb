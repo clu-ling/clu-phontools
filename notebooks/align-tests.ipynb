{
 "cells": [
  {
   "cell_type": "code",
   "execution_count": 2,
   "metadata": {},
   "outputs": [],
   "source": [
    "import nltk\n",
    "from nltk.metrics import aline\n",
    "\n",
    "# the ALINE algorithm has 10 functions performing different tasks. These are:\n",
    "# aline.demo()\n",
    "# aline.align\n",
    "# aline._retireve\n",
    "# aline.sigma_skip\n",
    "# aline.sigma_exp\n",
    "# aline.sigma_sub\n",
    "# aline.V\n",
    "# aline.R\n",
    "# aline.diff\n",
    "# aline.delta"
   ]
  },
  {
   "cell_type": "code",
   "execution_count": 3,
   "metadata": {},
   "outputs": [
    {
     "name": "stdout",
     "output_type": "stream",
     "text": [
      "jo ~ ʒə : (j, ʒ) (o, ə)\n",
      "tu ~ ty : (t, t) (u, y)\n",
      "nosotros ~ nu : (n, n) (o, u) (s, -) (o, -) (t, -) (r, -) (o, -) (s, -)\n",
      "kjen ~ ki : (k, k) (j, -) (e, i) (n, -)\n",
      "ke ~ kwa : (k, k) (-, w) (e, a)\n",
      "todos ~ tu : (t, t) (o, u) (d, -) (o, -) (s, -)\n",
      "una ~ ən : (u, ə) (n, n) (a, -)\n",
      "dos ~ dø : (d, d) (o, ø) (s, -)\n",
      "tres ~ trwa : (t, t) (r, r) (-, w) (e, a) (s, -)\n",
      "ombre ~ om : (o, o) (m, m) (b, -) (r, -) (e, -)\n",
      "arbol ~ arbrə : (a, a) (r, r) (b, b) (-, r) (o, ə) (l, -)\n",
      "pluma ~ plym : (p, p) (l, l) (u, y) (m, m) (a, -)\n",
      "kabeθa ~ kap : (k, k) (a, a) (b, p) (e, -) (θ, -) (a, -)\n",
      "boka ~ buʃ : (b, b) (o, u) (k, ʃ) (a, -)\n",
      "pje ~ pje : (p, p) (j, j) (e, e)\n",
      "koraθon ~ kœr : (k, k) (o, œ) (r, r) (a, -) (θ, -) (o, -) (n, -)\n",
      "ber ~ vwar : (b, v) (-, w) (e, a) (r, r)\n",
      "benir ~ vənir : (b, v) (e, ə) (n, n) (i, i) (r, r)\n",
      "deθir ~ dir : (d, d) (e, i) (θ, -) (i, -) (r, r)\n",
      "pobre ~ povrə : (p, p) (o, o) (b, v) (r, r) (e, ə)\n",
      "ðis ~ dIzes : (ð, d) (i, I) (-, z) (-, e) (s, s)\n",
      "ðæt ~ das : (ð, d) (æ, a) (t, s)\n",
      "wat ~ vas : (w, v) (a, a) (t, s)\n",
      "nat ~ nixt : (n, n) (a, i) (-, x) (t, t)\n",
      "loŋ ~ laŋ : (l, l) (o, a) (ŋ, ŋ)\n",
      "mæn ~ man : (m, m) (æ, a) (n, n)\n",
      "fleʃ ~ flajʃ : (f, f) (l, l) (e, a) (-, j) (ʃ, ʃ)\n",
      "bləd ~ blyt : (b, b) (l, l) (ə, y) (d, t)\n",
      "feðər ~ fEdər : (f, f) (e, E) (ð, d) (ə, ə) (r, r)\n",
      "hær ~ hAr : (h, h) (æ, A) (r, r)\n",
      "ir ~ Or : (i, O) (r, r)\n",
      "aj ~ awgə : (a, a) (j, w) (-, g) (-, ə)\n",
      "nowz ~ nAzə : (n, n) (o, A) (w, -) (z, z) (-, ə)\n",
      "mawθ ~ munt : (m, m) (a, u) (w, -) (-, n) (θ, t)\n",
      "təŋ ~ tsuŋə : (t, t) (-, s) (ə, u) (ŋ, ŋ) (-, ə)\n",
      "fut ~ fys : (f, f) (u, y) (t, s)\n",
      "nij ~ knI : (n, n) (i, I) (j, -)\n",
      "hænd ~ hant : (h, h) (æ, a) (n, n) (d, t)\n",
      "hart ~ herts : (h, h) (a, e) (r, r) (t, t) (-, s)\n",
      "livər ~ lEbər : (l, l) (i, E) (v, b) (ə, ə) (r, r)\n",
      "ænd ~ ante : (æ, a) (n, n) (d, t) (-, e)\n",
      "æt ~ ad : (æ, a) (t, d)\n",
      "blow ~ flAre : (b, f) (l, l) (o, A) (w, -) (-, r) (-, e)\n",
      "ir ~ awris : (i, a) (-, w) (r, r) (-, i) (-, s)\n",
      "ijt ~ edere : (i, e) (j, -) (t, d) (-, e) (-, r) (-, e)\n",
      "fiʃ ~ piʃkis : (f, p) (i, i) (ʃ, ʃ) (-, k) (-, i) (-, s)\n",
      "flow ~ fluere : (f, f) (l, l) (o, u) (w, -) (-, e) (-, r) (-, e)\n",
      "staɾ ~ stella : (s, s) (t, t) (a, e) (ɾ, l) (-, l) (-, a)\n",
      "ful ~ plenus : (f, p) (u, -) (l, l) (-, e) (-, n) (-, u) (-, s)\n",
      "græs ~ gramen : (g, g) (r, r) (æ, a) (s, -) (-, m) (-, e) (-, n)\n",
      "hart ~ kordis : (-, k) (a, o) (r, r) (t, d) (-, i) (-, s)\n",
      "horn ~ korny : (-, k) (o, o) (r, r) (n, n) (-, y)\n",
      "aj ~ ego : (a, e) (j, -) (-, g) (-, o)\n",
      "nij ~ genU : (n, n) (i, U) (j, -)\n",
      "məðər ~ mAter : (m, m) (ə, A) (ð, t) (ə, e) (r, r)\n",
      "mawntən ~ mons : (m, m) (a, o) (w, -) (n, n) (t, s) (ə, -) (n, -)\n",
      "nejm ~ nomen : (n, n) (e, o) (j, -) (m, m) (-, e) (-, n)\n",
      "njuw ~ nowus : (n, n) (j, -) (u, o) (w, w) (-, u) (-, s)\n",
      "wən ~ unus : (ə, u) (n, n) (-, u) (-, s)\n",
      "rawnd ~ rotundus : (r, r) (a, o) (w, -) (-, t) (-, u) (n, n) (d, d) (-, u) (-, s)\n",
      "sow ~ suere : (s, s) (o, u) (w, -) (-, e) (-, r) (-, e)\n",
      "sit ~ sedere : (s, s) (i, e) (t, d) (-, e) (-, r) (-, e)\n",
      "θrij ~ tres : (θ, t) (r, r) (i, e) (j, -) (-, s)\n",
      "tuwθ ~ dentis : (t, d) (u, e) (w, -) (-, n) (-, t) (-, i) (θ, s)\n",
      "θin ~ tenwis : (θ, t) (i, e) (n, n) (-, w) (-, i) (-, s)\n",
      "kinwawa ~ kenuaʔ : (k, k) (i, e) (n, n) (w, -) (a, u) (w, -) (a, a) (-, ʔ)\n",
      "nina ~ nenah : (n, n) (i, e) (n, n) (a, a) (-, h)\n",
      "napewa ~ napɛw : (n, n) (a, a) (p, p) (e, ɛ) (w, w) (a, -)\n",
      "wapimini ~ wapemen : (w, w) (a, a) (p, p) (i, e) (m, m) (i, e) (n, n) (i, -)\n",
      "namesa ~ namɛʔs : (n, n) (a, a) (m, m) (e, ɛ) (-, ʔ) (s, s) (a, -)\n",
      "okimawa ~ okemaw : (o, o) (k, k) (i, e) (m, m) (a, a) (w, w) (a, -)\n",
      "ʃiʃipa ~ seʔsep : (ʃ, s) (i, e) (-, ʔ) (ʃ, s) (i, e) (p, p) (a, -)\n",
      "ahkohkwa ~ ahkɛh : (a, a) (h, h) (k, k) (o, ɛ) (h, h) (k, -) (w, -) (a, -)\n",
      "pematesiweni ~ pematesewen : (p, p) (e, e) (m, m) (a, a) (t, t) (e, e) (s, s) (i, e) (w, w) (e, e) (n, n) (i, -)\n",
      "asenja ~ aʔsɛn : (a, a) (-, ʔ) (s, s) (e, ɛ) (n, n) (j, -) (a, -)\n"
     ]
    }
   ],
   "source": [
    "#(1) involve the demo() function [test function]\n",
    "# it tests the algorithm based on the cognates data provided in the code\n",
    "aline.demo()"
   ]
  },
  {
   "cell_type": "code",
   "execution_count": 4,
   "metadata": {},
   "outputs": [
    {
     "data": {
      "text/plain": [
       "[[('s', 's'), ('o', 'u'), ('w', '-'), ('-', 'e'), ('-', 'r'), ('-', 'e')]]"
      ]
     },
     "execution_count": 4,
     "metadata": {},
     "output_type": "execute_result"
    }
   ],
   "source": [
    "# (2) compute the alignment of two phonetic strings\n",
    "aline.align('sow','suere')"
   ]
  },
  {
   "cell_type": "code",
   "execution_count": 14,
   "metadata": {},
   "outputs": [
    {
     "ename": "KeyError",
     "evalue": "'L'",
     "output_type": "error",
     "traceback": [
      "\u001b[0;31m---------------------------------------------------------------------------\u001b[0m",
      "\u001b[0;31mKeyError\u001b[0m                                  Traceback (most recent call last)",
      "\u001b[0;32m<ipython-input-14-ebd6825d8bb4>\u001b[0m in \u001b[0;36m<module>\u001b[0;34m\u001b[0m\n\u001b[0;32m----> 1\u001b[0;31m \u001b[0maline\u001b[0m\u001b[0;34m.\u001b[0m\u001b[0malign\u001b[0m\u001b[0;34m(\u001b[0m\u001b[0;34m'LB æ2 d v æ1 n s LB b ʌ2 t LB s æ1 t LB ə3 p i1 l LB'\u001b[0m\u001b[0;34m,\u001b[0m\u001b[0;34m'LB æ2 d v æ1 n s LB b ʌ2 t LB s æ1 t LB ə3 p i1 l LB'\u001b[0m\u001b[0;34m)\u001b[0m\u001b[0;34m\u001b[0m\u001b[0;34m\u001b[0m\u001b[0m\n\u001b[0m\u001b[1;32m      2\u001b[0m \u001b[0;31m#a = ' '.join('LB       æ2      d       v       æ1      n       s       LB      b       ʌ2      t       LB      s       æ1      t       LB      ə3      p       i1      l       LB'.split('\\t')\u001b[0m\u001b[0;34m\u001b[0m\u001b[0;34m\u001b[0m\u001b[0;34m\u001b[0m\u001b[0m\n",
      "\u001b[0;32m/anaconda3/lib/python3.7/site-packages/nltk/metrics/aline.py\u001b[0m in \u001b[0;36malign\u001b[0;34m(str1, str2, epsilon)\u001b[0m\n\u001b[1;32m   1109\u001b[0m             \u001b[0medit1\u001b[0m \u001b[0;34m=\u001b[0m \u001b[0mS\u001b[0m\u001b[0;34m[\u001b[0m\u001b[0mi\u001b[0m \u001b[0;34m-\u001b[0m \u001b[0;36m1\u001b[0m\u001b[0;34m,\u001b[0m \u001b[0mj\u001b[0m\u001b[0;34m]\u001b[0m \u001b[0;34m+\u001b[0m \u001b[0msigma_skip\u001b[0m\u001b[0;34m(\u001b[0m\u001b[0mstr1\u001b[0m\u001b[0;34m[\u001b[0m\u001b[0mi\u001b[0m \u001b[0;34m-\u001b[0m \u001b[0;36m1\u001b[0m\u001b[0;34m]\u001b[0m\u001b[0;34m)\u001b[0m\u001b[0;34m\u001b[0m\u001b[0;34m\u001b[0m\u001b[0m\n\u001b[1;32m   1110\u001b[0m             \u001b[0medit2\u001b[0m \u001b[0;34m=\u001b[0m \u001b[0mS\u001b[0m\u001b[0;34m[\u001b[0m\u001b[0mi\u001b[0m\u001b[0;34m,\u001b[0m \u001b[0mj\u001b[0m \u001b[0;34m-\u001b[0m \u001b[0;36m1\u001b[0m\u001b[0;34m]\u001b[0m \u001b[0;34m+\u001b[0m \u001b[0msigma_skip\u001b[0m\u001b[0;34m(\u001b[0m\u001b[0mstr2\u001b[0m\u001b[0;34m[\u001b[0m\u001b[0mj\u001b[0m \u001b[0;34m-\u001b[0m \u001b[0;36m1\u001b[0m\u001b[0;34m]\u001b[0m\u001b[0;34m)\u001b[0m\u001b[0;34m\u001b[0m\u001b[0;34m\u001b[0m\u001b[0m\n\u001b[0;32m-> 1111\u001b[0;31m             \u001b[0medit3\u001b[0m \u001b[0;34m=\u001b[0m \u001b[0mS\u001b[0m\u001b[0;34m[\u001b[0m\u001b[0mi\u001b[0m \u001b[0;34m-\u001b[0m \u001b[0;36m1\u001b[0m\u001b[0;34m,\u001b[0m \u001b[0mj\u001b[0m \u001b[0;34m-\u001b[0m \u001b[0;36m1\u001b[0m\u001b[0;34m]\u001b[0m \u001b[0;34m+\u001b[0m \u001b[0msigma_sub\u001b[0m\u001b[0;34m(\u001b[0m\u001b[0mstr1\u001b[0m\u001b[0;34m[\u001b[0m\u001b[0mi\u001b[0m \u001b[0;34m-\u001b[0m \u001b[0;36m1\u001b[0m\u001b[0;34m]\u001b[0m\u001b[0;34m,\u001b[0m \u001b[0mstr2\u001b[0m\u001b[0;34m[\u001b[0m\u001b[0mj\u001b[0m \u001b[0;34m-\u001b[0m \u001b[0;36m1\u001b[0m\u001b[0;34m]\u001b[0m\u001b[0;34m)\u001b[0m\u001b[0;34m\u001b[0m\u001b[0;34m\u001b[0m\u001b[0m\n\u001b[0m\u001b[1;32m   1112\u001b[0m             \u001b[0;32mif\u001b[0m \u001b[0mi\u001b[0m \u001b[0;34m>\u001b[0m \u001b[0;36m1\u001b[0m\u001b[0;34m:\u001b[0m\u001b[0;34m\u001b[0m\u001b[0;34m\u001b[0m\u001b[0m\n\u001b[1;32m   1113\u001b[0m                 \u001b[0medit4\u001b[0m \u001b[0;34m=\u001b[0m \u001b[0mS\u001b[0m\u001b[0;34m[\u001b[0m\u001b[0mi\u001b[0m \u001b[0;34m-\u001b[0m \u001b[0;36m2\u001b[0m\u001b[0;34m,\u001b[0m \u001b[0mj\u001b[0m \u001b[0;34m-\u001b[0m \u001b[0;36m1\u001b[0m\u001b[0;34m]\u001b[0m \u001b[0;34m+\u001b[0m \u001b[0msigma_exp\u001b[0m\u001b[0;34m(\u001b[0m\u001b[0mstr2\u001b[0m\u001b[0;34m[\u001b[0m\u001b[0mj\u001b[0m \u001b[0;34m-\u001b[0m \u001b[0;36m1\u001b[0m\u001b[0;34m]\u001b[0m\u001b[0;34m,\u001b[0m \u001b[0mstr1\u001b[0m\u001b[0;34m[\u001b[0m\u001b[0mi\u001b[0m \u001b[0;34m-\u001b[0m \u001b[0;36m2\u001b[0m \u001b[0;34m:\u001b[0m \u001b[0mi\u001b[0m\u001b[0;34m]\u001b[0m\u001b[0;34m)\u001b[0m\u001b[0;34m\u001b[0m\u001b[0;34m\u001b[0m\u001b[0m\n",
      "\u001b[0;32m/anaconda3/lib/python3.7/site-packages/nltk/metrics/aline.py\u001b[0m in \u001b[0;36msigma_sub\u001b[0;34m(p, q)\u001b[0m\n\u001b[1;32m   1202\u001b[0m     \u001b[0;34m(\u001b[0m\u001b[0mKondrak\u001b[0m \u001b[0;36m2002\u001b[0m\u001b[0;34m:\u001b[0m \u001b[0;36m54\u001b[0m\u001b[0;34m)\u001b[0m\u001b[0;34m\u001b[0m\u001b[0;34m\u001b[0m\u001b[0m\n\u001b[1;32m   1203\u001b[0m     \"\"\"\n\u001b[0;32m-> 1204\u001b[0;31m     \u001b[0;32mreturn\u001b[0m \u001b[0mC_sub\u001b[0m \u001b[0;34m-\u001b[0m \u001b[0mdelta\u001b[0m\u001b[0;34m(\u001b[0m\u001b[0mp\u001b[0m\u001b[0;34m,\u001b[0m \u001b[0mq\u001b[0m\u001b[0;34m)\u001b[0m \u001b[0;34m-\u001b[0m \u001b[0mV\u001b[0m\u001b[0;34m(\u001b[0m\u001b[0mp\u001b[0m\u001b[0;34m)\u001b[0m \u001b[0;34m-\u001b[0m \u001b[0mV\u001b[0m\u001b[0;34m(\u001b[0m\u001b[0mq\u001b[0m\u001b[0;34m)\u001b[0m\u001b[0;34m\u001b[0m\u001b[0;34m\u001b[0m\u001b[0m\n\u001b[0m\u001b[1;32m   1205\u001b[0m \u001b[0;34m\u001b[0m\u001b[0m\n\u001b[1;32m   1206\u001b[0m \u001b[0;34m\u001b[0m\u001b[0m\n",
      "\u001b[0;32m/anaconda3/lib/python3.7/site-packages/nltk/metrics/aline.py\u001b[0m in \u001b[0;36mdelta\u001b[0;34m(p, q)\u001b[0m\n\u001b[1;32m   1225\u001b[0m     \u001b[0mtotal\u001b[0m \u001b[0;34m=\u001b[0m \u001b[0;36m0\u001b[0m\u001b[0;34m\u001b[0m\u001b[0;34m\u001b[0m\u001b[0m\n\u001b[1;32m   1226\u001b[0m     \u001b[0;32mfor\u001b[0m \u001b[0mf\u001b[0m \u001b[0;32min\u001b[0m \u001b[0mfeatures\u001b[0m\u001b[0;34m:\u001b[0m\u001b[0;34m\u001b[0m\u001b[0;34m\u001b[0m\u001b[0m\n\u001b[0;32m-> 1227\u001b[0;31m         \u001b[0mtotal\u001b[0m \u001b[0;34m+=\u001b[0m \u001b[0mdiff\u001b[0m\u001b[0;34m(\u001b[0m\u001b[0mp\u001b[0m\u001b[0;34m,\u001b[0m \u001b[0mq\u001b[0m\u001b[0;34m,\u001b[0m \u001b[0mf\u001b[0m\u001b[0;34m)\u001b[0m \u001b[0;34m*\u001b[0m \u001b[0msalience\u001b[0m\u001b[0;34m[\u001b[0m\u001b[0mf\u001b[0m\u001b[0;34m]\u001b[0m\u001b[0;34m\u001b[0m\u001b[0;34m\u001b[0m\u001b[0m\n\u001b[0m\u001b[1;32m   1228\u001b[0m     \u001b[0;32mreturn\u001b[0m \u001b[0mtotal\u001b[0m\u001b[0;34m\u001b[0m\u001b[0;34m\u001b[0m\u001b[0m\n\u001b[1;32m   1229\u001b[0m \u001b[0;34m\u001b[0m\u001b[0m\n",
      "\u001b[0;32m/anaconda3/lib/python3.7/site-packages/nltk/metrics/aline.py\u001b[0m in \u001b[0;36mdiff\u001b[0;34m(p, q, f)\u001b[0m\n\u001b[1;32m   1235\u001b[0m     \u001b[0;34m(\u001b[0m\u001b[0mKondrak\u001b[0m \u001b[0;36m2002\u001b[0m\u001b[0;34m:\u001b[0m \u001b[0;36m52\u001b[0m\u001b[0;34m,\u001b[0m \u001b[0;36m54\u001b[0m\u001b[0;34m)\u001b[0m\u001b[0;34m\u001b[0m\u001b[0;34m\u001b[0m\u001b[0m\n\u001b[1;32m   1236\u001b[0m     \"\"\"\n\u001b[0;32m-> 1237\u001b[0;31m     \u001b[0mp_features\u001b[0m\u001b[0;34m,\u001b[0m \u001b[0mq_features\u001b[0m \u001b[0;34m=\u001b[0m \u001b[0mfeature_matrix\u001b[0m\u001b[0;34m[\u001b[0m\u001b[0mp\u001b[0m\u001b[0;34m]\u001b[0m\u001b[0;34m,\u001b[0m \u001b[0mfeature_matrix\u001b[0m\u001b[0;34m[\u001b[0m\u001b[0mq\u001b[0m\u001b[0;34m]\u001b[0m\u001b[0;34m\u001b[0m\u001b[0;34m\u001b[0m\u001b[0m\n\u001b[0m\u001b[1;32m   1238\u001b[0m     \u001b[0;32mreturn\u001b[0m \u001b[0mabs\u001b[0m\u001b[0;34m(\u001b[0m\u001b[0msimilarity_matrix\u001b[0m\u001b[0;34m[\u001b[0m\u001b[0mp_features\u001b[0m\u001b[0;34m[\u001b[0m\u001b[0mf\u001b[0m\u001b[0;34m]\u001b[0m\u001b[0;34m]\u001b[0m \u001b[0;34m-\u001b[0m \u001b[0msimilarity_matrix\u001b[0m\u001b[0;34m[\u001b[0m\u001b[0mq_features\u001b[0m\u001b[0;34m[\u001b[0m\u001b[0mf\u001b[0m\u001b[0;34m]\u001b[0m\u001b[0;34m]\u001b[0m\u001b[0;34m)\u001b[0m\u001b[0;34m\u001b[0m\u001b[0;34m\u001b[0m\u001b[0m\n\u001b[1;32m   1239\u001b[0m \u001b[0;34m\u001b[0m\u001b[0m\n",
      "\u001b[0;31mKeyError\u001b[0m: 'L'"
     ]
    }
   ],
   "source": [
    "aline.align('LB æ2 d v æ1 n s LB b ʌ2 t LB s æ1 t LB ə3 p i1 l LB','LB æ2 d v æ1 n s LB b ʌ2 t LB s æ1 t LB ə3 p i1 l LB')"
   ]
  },
  {
   "cell_type": "code",
   "execution_count": 4,
   "metadata": {},
   "outputs": [],
   "source": [
    "# (3) _retrieve: retrieves the path through\n",
    "#aline._retrieve(i, j, s, S, T, str1, str2, out)\n",
    "# weak internal use \n",
    "# not included in the imports of the ALINE."
   ]
  },
  {
   "cell_type": "code",
   "execution_count": 5,
   "metadata": {},
   "outputs": [
    {
     "name": "stdout",
     "output_type": "stream",
     "text": [
      "1.0 0.0\n"
     ]
    }
   ],
   "source": [
    "#(4)diff: returns the difference between phonetic segments p and q given a feature f\n",
    "\n",
    "a = aline.diff('p','b','voice') # 1.0 becuase they are different given the feature\n",
    "b = aline.diff('p','b','place') # 0.0 becuase they are similar given the feature\n",
    "print (a,b)"
   ]
  },
  {
   "cell_type": "code",
   "execution_count": 6,
   "metadata": {},
   "outputs": [
    {
     "data": {
      "text/plain": [
       "10"
      ]
     },
     "execution_count": 6,
     "metadata": {},
     "output_type": "execute_result"
    }
   ],
   "source": [
    "# (5) sigma_skip: returns score of an insertion/deletion (C_skip) of segment P\n",
    "aline.sigma_skip('p')"
   ]
  },
  {
   "cell_type": "code",
   "execution_count": 7,
   "metadata": {},
   "outputs": [
    {
     "data": {
      "text/plain": [
       "5.0"
      ]
     },
     "execution_count": 7,
     "metadata": {},
     "output_type": "execute_result"
    }
   ],
   "source": [
    "# (6) delta: return weighted sum of differences between p and q\n",
    "aline.delta('p','b')"
   ]
  },
  {
   "cell_type": "code",
   "execution_count": 8,
   "metadata": {},
   "outputs": [
    {
     "data": {
      "text/plain": [
       "30.0"
      ]
     },
     "execution_count": 8,
     "metadata": {},
     "output_type": "execute_result"
    }
   ],
   "source": [
    "# (7) sigma_sub: returns score of substitution (C_sub) of P with Q\n",
    "aline.sigma_sub('p','b')"
   ]
  },
  {
   "cell_type": "code",
   "execution_count": 9,
   "metadata": {},
   "outputs": [
    {
     "data": {
      "text/plain": [
       "5"
      ]
     },
     "execution_count": 9,
     "metadata": {},
     "output_type": "execute_result"
    }
   ],
   "source": [
    "# (8) V: return vowel weight if P is vowel\n",
    "aline.V('a')"
   ]
  },
  {
   "cell_type": "code",
   "execution_count": 10,
   "metadata": {},
   "outputs": [
    {
     "data": {
      "text/plain": [
       "['aspirated',\n",
       " 'lateral',\n",
       " 'manner',\n",
       " 'nasal',\n",
       " 'place',\n",
       " 'retroflex',\n",
       " 'syllabic',\n",
       " 'voice']"
      ]
     },
     "execution_count": 10,
     "metadata": {},
     "output_type": "execute_result"
    }
   ],
   "source": [
    "# (9) R: returns relevenant features for segment comaprison\n",
    "aline.R('p','b')"
   ]
  },
  {
   "cell_type": "code",
   "execution_count": 11,
   "metadata": {},
   "outputs": [
    {
     "data": {
      "text/plain": [
       "-88.5"
      ]
     },
     "execution_count": 11,
     "metadata": {},
     "output_type": "execute_result"
    }
   ],
   "source": [
    "# (10) sigma_exp: returns score of an expansion/compression (C_exp)\n",
    "aline.sigma_exp('p','si')"
   ]
  },
  {
   "cell_type": "markdown",
   "metadata": {},
   "source": [
    "## Modified ALINE"
   ]
  },
  {
   "cell_type": "code",
   "execution_count": 3,
   "metadata": {},
   "outputs": [
    {
     "ename": "ValueError",
     "evalue": "attempted relative import beyond top-level package",
     "output_type": "error",
     "traceback": [
      "\u001b[0;31m---------------------------------------------------------------------------\u001b[0m",
      "\u001b[0;31mValueError\u001b[0m                                Traceback (most recent call last)",
      "\u001b[0;32m<ipython-input-3-8b76efdc8f87>\u001b[0m in \u001b[0;36m<module>\u001b[0;34m\u001b[0m\n\u001b[0;32m----> 1\u001b[0;31m \u001b[0;32mfrom\u001b[0m \u001b[0;34m.\u001b[0m\u001b[0;34m.\u001b[0m \u001b[0;32mimport\u001b[0m \u001b[0mmisc\u001b[0m\u001b[0;34m\u001b[0m\u001b[0;34m\u001b[0m\u001b[0m\n\u001b[0m",
      "\u001b[0;31mValueError\u001b[0m: attempted relative import beyond top-level package"
     ]
    }
   ],
   "source": [
    "from .. import misc"
   ]
  },
  {
   "cell_type": "code",
   "execution_count": 4,
   "metadata": {
    "tags": []
   },
   "outputs": [
    {
     "name": "stdout",
     "output_type": "stream",
     "text": [
      "\u001b[31maline_modified_by_yjandabl.py\u001b[m\u001b[m\n"
     ]
    }
   ],
   "source": [
    "!ls ../misc "
   ]
  },
  {
   "cell_type": "code",
   "execution_count": 20,
   "metadata": {},
   "outputs": [],
   "source": [
    "import sys\n",
    "import os\n",
    "\n",
    "sys.path.insert(0, os.path.abspath(\"../misc\"))\n",
    "\n",
    "from aline_modified_by_yjandabl import demo\n",
    "import aline_modified_by_yjandabl as al"
   ]
  },
  {
   "cell_type": "code",
   "execution_count": 21,
   "metadata": {
    "tags": []
   },
   "outputs": [
    {
     "name": "stdout",
     "output_type": "stream",
     "text": [
      "jo ~ ʒə : (j, ʒ) (o, ə)\n",
      "tu ~ ty : (t, t) (u, y)\n",
      "nosotros ~ nu : (n, n) (o, u) (s, -) (o, -) (t, -) (r, -) (o, -) (s, -)\n",
      "kjen ~ ki : (k, k) (j, -) (e, i) (n, -)\n",
      "ke ~ kwa : (k, k) (-, w) (e, a)\n",
      "todos ~ tu : (t, t) (o, u) (d, -) (o, -) (s, -)\n",
      "una ~ ən : (u, ə) (n, n) (a, -)\n",
      "dos ~ dø : (d, d) (o, ø) (s, -)\n",
      "tres ~ trwa : (t, t) (r, r) (-, w) (e, a) (s, -)\n",
      "ombre ~ om : (o, o) (m, m) (b, -) (r, -) (e, -)\n",
      "arbol ~ arbrə : (a, a) (r, r) (b, b) (-, r) (o, ə) (l, -)\n",
      "pluma ~ plym : (p, p) (l, l) (u, y) (m, m) (a, -)\n",
      "kabeθa ~ kap : (k, k) (a, a) (b, p) (e, -) (θ, -) (a, -)\n",
      "boka ~ buʃ : (b, b) (o, u) (k, ʃ) (a, -)\n",
      "pje ~ pje : (p, p) (j, j) (e, e)\n",
      "koraθon ~ kœr : (k, k) (o, œ) (r, r) (a, -) (θ, -) (o, -) (n, -)\n",
      "ber ~ vwar : (b, v) (-, w) (e, a) (r, r)\n",
      "benir ~ vənir : (b, v) (e, ə) (n, n) (i, i) (r, r)\n",
      "deθir ~ dir : (d, d) (e, i) (θ, -) (i, -) (r, r)\n",
      "pobre ~ povrə : (p, p) (o, o) (b, v) (r, r) (e, ə)\n",
      "ðis ~ dIzes : (ð, d) (i, I) (-, z) (-, e) (s, s)\n",
      "ðæt ~ das : (ð, d) (æ, a) (t, s)\n",
      "wat ~ vas : (w, v) (a, a) (t, s)\n",
      "nat ~ nixt : (n, n) (a, i) (-, x) (t, t)\n",
      "loŋ ~ laŋ : (l, l) (o, a) (ŋ, ŋ)\n",
      "mæn ~ man : (m, m) (æ, a) (n, n)\n",
      "fleʃ ~ flajʃ : (f, f) (l, l) (e, a) (-, j) (ʃ, ʃ)\n",
      "bləd ~ blyt : (b, b) (l, l) (ə, y) (d, t)\n",
      "feðər ~ fEdər : (f, f) (e, E) (ð, d) (ə, ə) (r, r)\n",
      "hær ~ hAr : (h, h) (æ, A) (r, r)\n",
      "ir ~ Or : (i, O) (r, r)\n",
      "aj ~ awgə : (a, a) (j, w) (-, g) (-, ə)\n",
      "nowz ~ nAzə : (n, n) (o, A) (w, -) (z, z) (-, ə)\n",
      "mawθ ~ munt : (m, m) (a, u) (w, -) (-, n) (θ, t)\n",
      "təŋ ~ tsuŋə : (t, t) (-, s) (ə, u) (ŋ, ŋ) (-, ə)\n",
      "fut ~ fys : (f, f) (u, y) (t, s)\n",
      "nij ~ knI : (n, n) (i, I) (j, -)\n",
      "hænd ~ hant : (h, h) (æ, a) (n, n) (d, t)\n",
      "hart ~ herts : (h, h) (a, e) (r, r) (t, t) (-, s)\n",
      "livər ~ lEbər : (l, l) (i, E) (v, b) (ə, ə) (r, r)\n",
      "ænd ~ ante : (æ, a) (n, n) (d, t) (-, e)\n",
      "æt ~ ad : (æ, a) (t, d)\n",
      "blow ~ flAre : (b, f) (l, l) (o, A) (w, -) (-, r) (-, e)\n",
      "ir ~ awris : (i, a) (-, w) (r, r) (-, i) (-, s)\n",
      "ijt ~ edere : (i, e) (j, -) (t, d) (-, e) (-, r) (-, e)\n",
      "fiʃ ~ piʃkis : (f, p) (i, i) (ʃ, ʃ) (-, k) (-, i) (-, s)\n",
      "flow ~ fluere : (f, f) (l, l) (o, u) (w, -) (-, e) (-, r) (-, e)\n",
      "staɾ ~ stella : (s, s) (t, t) (a, e) (ɾ, l) (-, l) (-, a)\n",
      "ful ~ plenus : (f, p) (u, -) (l, l) (-, e) (-, n) (-, u) (-, s)\n",
      "græs ~ gramen : (g, g) (r, r) (æ, a) (s, -) (-, m) (-, e) (-, n)\n",
      "hart ~ kordis : (-, k) (a, o) (r, r) (t, d) (-, i) (-, s)\n",
      "horn ~ korny : (-, k) (o, o) (r, r) (n, n) (-, y)\n",
      "aj ~ ego : (a, e) (j, -) (-, g) (-, o)\n",
      "nij ~ genU : (n, n) (i, U) (j, -)\n",
      "məðər ~ mAter : (m, m) (ə, A) (ð, t) (ə, e) (r, r)\n",
      "mawntən ~ mons : (m, m) (a, o) (w, -) (n, n) (t, s) (ə, -) (n, -)\n",
      "nejm ~ nomen : (n, n) (e, o) (j, -) (m, m) (-, e) (-, n)\n",
      "njuw ~ nowus : (n, n) (j, -) (u, o) (w, w) (-, u) (-, s)\n",
      "wən ~ unus : (ə, u) (n, n) (-, u) (-, s)\n",
      "rawnd ~ rotundus : (r, r) (a, o) (w, -) (-, t) (-, u) (n, n) (d, d) (-, u) (-, s)\n",
      "sow ~ suere : (s, s) (o, u) (w, -) (-, e) (-, r) (-, e)\n",
      "sit ~ sedere : (s, s) (i, e) (t, d) (-, e) (-, r) (-, e)\n",
      "θrij ~ tres : (θ, t) (r, r) (i, e) (j, -) (-, s)\n",
      "tuwθ ~ dentis : (t, d) (u, e) (w, -) (-, n) (-, t) (-, i) (θ, s)\n",
      "θin ~ tenwis : (θ, t) (i, e) (n, n) (-, w) (-, i) (-, s)\n",
      "kinwawa ~ kenuaʔ : (k, k) (i, e) (n, n) (w, -) (a, u) (w, -) (a, a) (-, ʔ)\n",
      "nina ~ nenah : (n, n) (i, e) (n, n) (a, a) (-, h)\n",
      "napewa ~ napɛw : (n, n) (a, a) (p, p) (e, ɛ) (w, w) (a, -)\n",
      "wapimini ~ wapemen : (w, w) (a, a) (p, p) (i, e) (m, m) (i, e) (n, n) (i, -)\n",
      "namesa ~ namɛʔs : (n, n) (a, a) (m, m) (e, ɛ) (-, ʔ) (s, s) (a, -)\n",
      "okimawa ~ okemaw : (o, o) (k, k) (i, e) (m, m) (a, a) (w, w) (a, -)\n",
      "ʃiʃipa ~ seʔsep : (ʃ, s) (i, e) (-, ʔ) (ʃ, s) (i, e) (p, p) (a, -)\n",
      "ahkohkwa ~ ahkɛh : (a, a) (h, h) (k, k) (o, ɛ) (h, h) (k, -) (w, -) (a, -)\n",
      "pematesiweni ~ pematesewen : (p, p) (e, e) (m, m) (a, a) (t, t) (e, e) (s, s) (i, e) (w, w) (e, e) (n, n) (i, -)\n",
      "asenja ~ aʔsɛn : (a, a) (-, ʔ) (s, s) (e, ɛ) (n, n) (j, -) (a, -)\n"
     ]
    }
   ],
   "source": [
    "demo()"
   ]
  },
  {
   "cell_type": "code",
   "execution_count": 22,
   "metadata": {},
   "outputs": [
    {
     "ename": "KeyError",
     "evalue": "'L'",
     "output_type": "error",
     "traceback": [
      "\u001b[0;31m---------------------------------------------------------------------------\u001b[0m",
      "\u001b[0;31mKeyError\u001b[0m                                  Traceback (most recent call last)",
      "\u001b[0;32m<ipython-input-22-b5df7e67c0ef>\u001b[0m in \u001b[0;36m<module>\u001b[0;34m\u001b[0m\n\u001b[0;32m----> 1\u001b[0;31m \u001b[0mal\u001b[0m\u001b[0;34m.\u001b[0m\u001b[0malign\u001b[0m\u001b[0;34m(\u001b[0m\u001b[0;34m'LB æ2 d v æ1 n s LB b ʌ2 t LB s æ1 t LB ə3 p i1 l LB'\u001b[0m\u001b[0;34m,\u001b[0m\u001b[0;34m'LB æ2 d v æ1 n s LB b ʌ2 t LB s æ1 t LB ə3 p i1 l LB'\u001b[0m\u001b[0;34m)\u001b[0m\u001b[0;34m\u001b[0m\u001b[0;34m\u001b[0m\u001b[0m\n\u001b[0m",
      "\u001b[0;32m~/Desktop/phonetics/re-aline/misc/aline_modified_by_yjandabl.py\u001b[0m in \u001b[0;36malign\u001b[0;34m(str1, str2, epsilon)\u001b[0m\n\u001b[1;32m    421\u001b[0m             \u001b[0medit1\u001b[0m \u001b[0;34m=\u001b[0m \u001b[0mS\u001b[0m\u001b[0;34m[\u001b[0m\u001b[0mi\u001b[0m\u001b[0;34m-\u001b[0m\u001b[0;36m1\u001b[0m\u001b[0;34m,\u001b[0m \u001b[0mj\u001b[0m\u001b[0;34m]\u001b[0m \u001b[0;34m+\u001b[0m \u001b[0msigma_skip\u001b[0m\u001b[0;34m(\u001b[0m\u001b[0mstr1\u001b[0m\u001b[0;34m[\u001b[0m\u001b[0mi\u001b[0m\u001b[0;34m-\u001b[0m\u001b[0;36m1\u001b[0m\u001b[0;34m]\u001b[0m\u001b[0;34m)\u001b[0m\u001b[0;34m\u001b[0m\u001b[0;34m\u001b[0m\u001b[0m\n\u001b[1;32m    422\u001b[0m             \u001b[0medit2\u001b[0m \u001b[0;34m=\u001b[0m \u001b[0mS\u001b[0m\u001b[0;34m[\u001b[0m\u001b[0mi\u001b[0m\u001b[0;34m,\u001b[0m \u001b[0mj\u001b[0m\u001b[0;34m-\u001b[0m\u001b[0;36m1\u001b[0m\u001b[0;34m]\u001b[0m \u001b[0;34m+\u001b[0m \u001b[0msigma_skip\u001b[0m\u001b[0;34m(\u001b[0m\u001b[0mstr2\u001b[0m\u001b[0;34m[\u001b[0m\u001b[0mj\u001b[0m\u001b[0;34m-\u001b[0m\u001b[0;36m1\u001b[0m\u001b[0;34m]\u001b[0m\u001b[0;34m)\u001b[0m\u001b[0;34m\u001b[0m\u001b[0;34m\u001b[0m\u001b[0m\n\u001b[0;32m--> 423\u001b[0;31m             \u001b[0medit3\u001b[0m \u001b[0;34m=\u001b[0m \u001b[0mS\u001b[0m\u001b[0;34m[\u001b[0m\u001b[0mi\u001b[0m\u001b[0;34m-\u001b[0m\u001b[0;36m1\u001b[0m\u001b[0;34m,\u001b[0m \u001b[0mj\u001b[0m\u001b[0;34m-\u001b[0m\u001b[0;36m1\u001b[0m\u001b[0;34m]\u001b[0m \u001b[0;34m+\u001b[0m \u001b[0msigma_sub\u001b[0m\u001b[0;34m(\u001b[0m\u001b[0mstr1\u001b[0m\u001b[0;34m[\u001b[0m\u001b[0mi\u001b[0m\u001b[0;34m-\u001b[0m\u001b[0;36m1\u001b[0m\u001b[0;34m]\u001b[0m\u001b[0;34m,\u001b[0m \u001b[0mstr2\u001b[0m\u001b[0;34m[\u001b[0m\u001b[0mj\u001b[0m\u001b[0;34m-\u001b[0m\u001b[0;36m1\u001b[0m\u001b[0;34m]\u001b[0m\u001b[0;34m)\u001b[0m\u001b[0;34m\u001b[0m\u001b[0;34m\u001b[0m\u001b[0m\n\u001b[0m\u001b[1;32m    424\u001b[0m             \u001b[0;32mif\u001b[0m \u001b[0mi\u001b[0m \u001b[0;34m>\u001b[0m \u001b[0;36m1\u001b[0m\u001b[0;34m:\u001b[0m\u001b[0;34m\u001b[0m\u001b[0;34m\u001b[0m\u001b[0m\n\u001b[1;32m    425\u001b[0m                 \u001b[0medit4\u001b[0m \u001b[0;34m=\u001b[0m \u001b[0mS\u001b[0m\u001b[0;34m[\u001b[0m\u001b[0mi\u001b[0m\u001b[0;34m-\u001b[0m\u001b[0;36m2\u001b[0m\u001b[0;34m,\u001b[0m \u001b[0mj\u001b[0m\u001b[0;34m-\u001b[0m\u001b[0;36m1\u001b[0m\u001b[0;34m]\u001b[0m \u001b[0;34m+\u001b[0m \u001b[0msigma_exp\u001b[0m\u001b[0;34m(\u001b[0m\u001b[0mstr2\u001b[0m\u001b[0;34m[\u001b[0m\u001b[0mj\u001b[0m\u001b[0;34m-\u001b[0m\u001b[0;36m1\u001b[0m\u001b[0;34m]\u001b[0m\u001b[0;34m,\u001b[0m \u001b[0mstr1\u001b[0m\u001b[0;34m[\u001b[0m\u001b[0mi\u001b[0m\u001b[0;34m-\u001b[0m\u001b[0;36m2\u001b[0m\u001b[0;34m:\u001b[0m\u001b[0mi\u001b[0m\u001b[0;34m]\u001b[0m\u001b[0;34m)\u001b[0m\u001b[0;34m\u001b[0m\u001b[0;34m\u001b[0m\u001b[0m\n",
      "\u001b[0;32m~/Desktop/phonetics/re-aline/misc/aline_modified_by_yjandabl.py\u001b[0m in \u001b[0;36msigma_sub\u001b[0;34m(p, q)\u001b[0m\n\u001b[1;32m    482\u001b[0m     \u001b[0;34m(\u001b[0m\u001b[0mKondrak\u001b[0m \u001b[0;36m2002\u001b[0m\u001b[0;34m:\u001b[0m \u001b[0;36m54\u001b[0m\u001b[0;34m)\u001b[0m\u001b[0;34m\u001b[0m\u001b[0;34m\u001b[0m\u001b[0m\n\u001b[1;32m    483\u001b[0m     \"\"\"\n\u001b[0;32m--> 484\u001b[0;31m     \u001b[0;32mreturn\u001b[0m \u001b[0mC_sub\u001b[0m \u001b[0;34m-\u001b[0m \u001b[0mdelta\u001b[0m\u001b[0;34m(\u001b[0m\u001b[0mp\u001b[0m\u001b[0;34m,\u001b[0m \u001b[0mq\u001b[0m\u001b[0;34m)\u001b[0m \u001b[0;34m-\u001b[0m \u001b[0mV\u001b[0m\u001b[0;34m(\u001b[0m\u001b[0mp\u001b[0m\u001b[0;34m)\u001b[0m \u001b[0;34m-\u001b[0m \u001b[0mV\u001b[0m\u001b[0;34m(\u001b[0m\u001b[0mq\u001b[0m\u001b[0;34m)\u001b[0m\u001b[0;34m\u001b[0m\u001b[0;34m\u001b[0m\u001b[0m\n\u001b[0m\u001b[1;32m    485\u001b[0m \u001b[0;34m\u001b[0m\u001b[0m\n\u001b[1;32m    486\u001b[0m \u001b[0;32mdef\u001b[0m \u001b[0msigma_exp\u001b[0m\u001b[0;34m(\u001b[0m\u001b[0mp\u001b[0m\u001b[0;34m,\u001b[0m \u001b[0mq\u001b[0m\u001b[0;34m)\u001b[0m\u001b[0;34m:\u001b[0m\u001b[0;34m\u001b[0m\u001b[0;34m\u001b[0m\u001b[0m\n",
      "\u001b[0;32m~/Desktop/phonetics/re-aline/misc/aline_modified_by_yjandabl.py\u001b[0m in \u001b[0;36mdelta\u001b[0;34m(p, q)\u001b[0m\n\u001b[1;32m    503\u001b[0m     \u001b[0mtotal\u001b[0m \u001b[0;34m=\u001b[0m \u001b[0;36m0\u001b[0m\u001b[0;34m\u001b[0m\u001b[0;34m\u001b[0m\u001b[0m\n\u001b[1;32m    504\u001b[0m     \u001b[0;32mfor\u001b[0m \u001b[0mf\u001b[0m \u001b[0;32min\u001b[0m \u001b[0mfeatures\u001b[0m\u001b[0;34m:\u001b[0m\u001b[0;34m\u001b[0m\u001b[0;34m\u001b[0m\u001b[0m\n\u001b[0;32m--> 505\u001b[0;31m         \u001b[0mtotal\u001b[0m \u001b[0;34m+=\u001b[0m \u001b[0mdiff\u001b[0m\u001b[0;34m(\u001b[0m\u001b[0mp\u001b[0m\u001b[0;34m,\u001b[0m \u001b[0mq\u001b[0m\u001b[0;34m,\u001b[0m \u001b[0mf\u001b[0m\u001b[0;34m)\u001b[0m \u001b[0;34m*\u001b[0m \u001b[0msalience\u001b[0m\u001b[0;34m[\u001b[0m\u001b[0mf\u001b[0m\u001b[0;34m]\u001b[0m\u001b[0;34m\u001b[0m\u001b[0;34m\u001b[0m\u001b[0m\n\u001b[0m\u001b[1;32m    506\u001b[0m     \u001b[0;32mreturn\u001b[0m \u001b[0mtotal\u001b[0m\u001b[0;34m\u001b[0m\u001b[0;34m\u001b[0m\u001b[0m\n\u001b[1;32m    507\u001b[0m \u001b[0;34m\u001b[0m\u001b[0m\n",
      "\u001b[0;32m~/Desktop/phonetics/re-aline/misc/aline_modified_by_yjandabl.py\u001b[0m in \u001b[0;36mdiff\u001b[0;34m(p, q, f)\u001b[0m\n\u001b[1;32m    512\u001b[0m     \u001b[0;34m(\u001b[0m\u001b[0mKondrak\u001b[0m \u001b[0;36m2002\u001b[0m\u001b[0;34m:\u001b[0m \u001b[0;36m52\u001b[0m\u001b[0;34m,\u001b[0m \u001b[0;36m54\u001b[0m\u001b[0;34m)\u001b[0m\u001b[0;34m\u001b[0m\u001b[0;34m\u001b[0m\u001b[0m\n\u001b[1;32m    513\u001b[0m     \"\"\"\n\u001b[0;32m--> 514\u001b[0;31m     \u001b[0mp_features\u001b[0m\u001b[0;34m,\u001b[0m \u001b[0mq_features\u001b[0m \u001b[0;34m=\u001b[0m \u001b[0mfeature_matrix\u001b[0m\u001b[0;34m[\u001b[0m\u001b[0mp\u001b[0m\u001b[0;34m]\u001b[0m\u001b[0;34m,\u001b[0m \u001b[0mfeature_matrix\u001b[0m\u001b[0;34m[\u001b[0m\u001b[0mq\u001b[0m\u001b[0;34m]\u001b[0m\u001b[0;34m\u001b[0m\u001b[0;34m\u001b[0m\u001b[0m\n\u001b[0m\u001b[1;32m    515\u001b[0m     \u001b[0;32mreturn\u001b[0m \u001b[0mabs\u001b[0m\u001b[0;34m(\u001b[0m\u001b[0msimilarity_matrix\u001b[0m\u001b[0;34m[\u001b[0m\u001b[0mp_features\u001b[0m\u001b[0;34m[\u001b[0m\u001b[0mf\u001b[0m\u001b[0;34m]\u001b[0m\u001b[0;34m]\u001b[0m \u001b[0;34m-\u001b[0m \u001b[0msimilarity_matrix\u001b[0m\u001b[0;34m[\u001b[0m\u001b[0mq_features\u001b[0m\u001b[0;34m[\u001b[0m\u001b[0mf\u001b[0m\u001b[0;34m]\u001b[0m\u001b[0;34m]\u001b[0m\u001b[0;34m)\u001b[0m\u001b[0;34m\u001b[0m\u001b[0;34m\u001b[0m\u001b[0m\n\u001b[1;32m    516\u001b[0m \u001b[0;34m\u001b[0m\u001b[0m\n",
      "\u001b[0;31mKeyError\u001b[0m: 'L'"
     ]
    }
   ],
   "source": [
    "al.align('LB æ2 d v æ1 n s LB b ʌ2 t LB s æ1 t LB ə3 p i1 l LB','LB æ2 d v æ1 n s LB b ʌ2 t LB s æ1 t LB ə3 p i1 l LB')"
   ]
  },
  {
   "cell_type": "code",
   "execution_count": null,
   "metadata": {},
   "outputs": [],
   "source": []
  }
 ],
 "metadata": {
  "kernelspec": {
   "display_name": "Python 3",
   "language": "python",
   "name": "python3"
  },
  "language_info": {
   "codemirror_mode": {
    "name": "ipython",
    "version": 3
   },
   "file_extension": ".py",
   "mimetype": "text/x-python",
   "name": "python",
   "nbconvert_exporter": "python",
   "pygments_lexer": "ipython3",
   "version": "3.7.3"
  }
 },
 "nbformat": 4,
 "nbformat_minor": 2
}
