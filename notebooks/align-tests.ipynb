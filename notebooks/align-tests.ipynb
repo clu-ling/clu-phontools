{
 "cells": [
  {
   "cell_type": "code",
   "execution_count": null,
   "metadata": {},
   "outputs": [],
   "source": [
    "%load_ext autoreload\n",
    "%autoreload 2"
   ]
  },
  {
   "cell_type": "code",
   "execution_count": null,
   "metadata": {},
   "outputs": [],
   "source": [
    "import nltk\n",
    "from nltk.metrics import aline\n",
    "\n",
    "# the ALINE algorithm has 10 functions performing different tasks. These are:\n",
    "# aline.demo()\n",
    "# aline.align\n",
    "# aline._retireve\n",
    "# aline.sigma_skip\n",
    "# aline.sigma_exp\n",
    "# aline.sigma_sub\n",
    "# aline.V\n",
    "# aline.R\n",
    "# aline.diff\n",
    "# aline.delta"
   ]
  },
  {
   "cell_type": "code",
   "execution_count": null,
   "metadata": {},
   "outputs": [],
   "source": [
    "#(1) involve the demo() function [test function]\n",
    "# it tests the algorithm based on the cognates data provided in the code\n",
    "aline.demo()"
   ]
  },
  {
   "cell_type": "code",
   "execution_count": null,
   "metadata": {},
   "outputs": [],
   "source": [
    "# (2) compute the alignment of two phonetic strings\n",
    "aline.align('sow','suere')"
   ]
  },
  {
   "cell_type": "code",
   "execution_count": null,
   "metadata": {},
   "outputs": [],
   "source": [
    "aline.align('LB æ2 d v æ1 n s LB b ʌ2 t LB s æ1 t LB ə3 p i1 l LB','LB æ2 d v æ1 n s LB b ʌ2 t LB s æ1 t LB ə3 p i1 l LB')"
   ]
  },
  {
   "cell_type": "code",
   "execution_count": null,
   "metadata": {},
   "outputs": [],
   "source": [
    "# (3) _retrieve: retrieves the path through\n",
    "#aline._retrieve(i, j, s, S, T, str1, str2, out)\n",
    "# weak internal use \n",
    "# not included in the imports of the ALINE."
   ]
  },
  {
   "cell_type": "code",
   "execution_count": null,
   "metadata": {},
   "outputs": [],
   "source": [
    "#(4)diff: returns the difference between phonetic segments p and q given a feature f\n",
    "\n",
    "a = aline.diff('p','b','voice') # 1.0 becuase they are different given the feature\n",
    "b = aline.diff('p','b','place') # 0.0 becuase they are similar given the feature\n",
    "print (a,b)"
   ]
  },
  {
   "cell_type": "code",
   "execution_count": null,
   "metadata": {},
   "outputs": [],
   "source": [
    "# (5) sigma_skip: returns score of an insertion/deletion (C_skip) of segment P\n",
    "aline.sigma_skip('p')"
   ]
  },
  {
   "cell_type": "code",
   "execution_count": null,
   "metadata": {},
   "outputs": [],
   "source": [
    "# (6) delta: return weighted sum of differences between p and q\n",
    "aline.delta('p','b')"
   ]
  },
  {
   "cell_type": "code",
   "execution_count": null,
   "metadata": {},
   "outputs": [],
   "source": [
    "# (7) sigma_sub: returns score of substitution (C_sub) of P with Q\n",
    "aline.sigma_sub('p','b')"
   ]
  },
  {
   "cell_type": "code",
   "execution_count": null,
   "metadata": {},
   "outputs": [],
   "source": [
    "# (8) V: return vowel weight if P is vowel\n",
    "aline.V('a')"
   ]
  },
  {
   "cell_type": "code",
   "execution_count": null,
   "metadata": {},
   "outputs": [],
   "source": [
    "# (9) R: returns relevenant features for segment comaprison\n",
    "aline.R('p','b')"
   ]
  },
  {
   "cell_type": "code",
   "execution_count": null,
   "metadata": {},
   "outputs": [],
   "source": [
    "# (10) sigma_exp: returns score of an expansion/compression (C_exp)\n",
    "aline.sigma_exp('p','si')"
   ]
  },
  {
   "cell_type": "markdown",
   "metadata": {},
   "source": [
    "## Modified ALINE"
   ]
  },
  {
   "cell_type": "code",
   "execution_count": null,
   "metadata": {},
   "outputs": [],
   "source": [
    "from .. import misc"
   ]
  },
  {
   "cell_type": "code",
   "execution_count": null,
   "metadata": {
    "tags": []
   },
   "outputs": [],
   "source": [
    "!ls ../misc "
   ]
  },
  {
   "cell_type": "code",
   "execution_count": null,
   "metadata": {},
   "outputs": [],
   "source": [
    "import sys\n",
    "import os\n",
    "\n",
    "sys.path.insert(0, os.path.abspath(\"../misc\"))\n",
    "\n",
    "from aline_modified_by_yjandabl import demo\n",
    "import aline_modified_by_yjandabl as al"
   ]
  },
  {
   "cell_type": "code",
   "execution_count": null,
   "metadata": {
    "tags": []
   },
   "outputs": [],
   "source": [
    "demo()"
   ]
  },
  {
   "cell_type": "code",
   "execution_count": null,
   "metadata": {},
   "outputs": [],
   "source": [
    "al.align('LB æ2 d v æ1 n s LB b ʌ2 t LB s æ1 t LB ə3 p i1 l LB','LB æ2 d v æ1 n s LB b ʌ2 t LB s æ1 t LB ə3 p i1 l LB')"
   ]
  },
  {
   "cell_type": "code",
   "execution_count": null,
   "metadata": {},
   "outputs": [],
   "source": []
  },
  {
   "cell_type": "markdown",
   "metadata": {},
   "source": [
    "# ReAline"
   ]
  },
  {
   "cell_type": "code",
   "execution_count": null,
   "metadata": {},
   "outputs": [],
   "source": [
    "import sys\n",
    "import os\n",
    "\n",
    "sys.path.insert(0, os.path.abspath(\"../realine\"))\n",
    "\n",
    "from realine import ReAline"
   ]
  },
  {
   "cell_type": "code",
   "execution_count": null,
   "metadata": {},
   "outputs": [],
   "source": [
    "ReAline??"
   ]
  },
  {
   "cell_type": "code",
   "execution_count": null,
   "metadata": {},
   "outputs": [],
   "source": [
    "realiner = ReAline()"
   ]
  },
  {
   "cell_type": "code",
   "execution_count": null,
   "metadata": {},
   "outputs": [],
   "source": [
    "realiner.feature_matrix[\"LB\"]"
   ]
  },
  {
   "cell_type": "code",
   "execution_count": null,
   "metadata": {},
   "outputs": [],
   "source": [
    "realiner.similarity_matrix.keys()"
   ]
  },
  {
   "cell_type": "code",
   "execution_count": null,
   "metadata": {},
   "outputs": [],
   "source": [
    "# Aligns two sequences of phones\n",
    "realiner.align([\"θ\", \"i\", \"n\"], [\"t\", \"e\", \"n\", \"w\", \"i\", \"s\"])"
   ]
  },
  {
   "cell_type": "code",
   "execution_count": null,
   "metadata": {},
   "outputs": [],
   "source": [
    "realiner.align([\"θ\", \"i\", \"n\", \"LB\"], [\"t\", \"e\", \"n\", \"w\", \"i\", \"s\"])"
   ]
  },
  {
   "cell_type": "code",
   "execution_count": null,
   "metadata": {},
   "outputs": [],
   "source": [
    "from realine import features# feature_matrix"
   ]
  },
  {
   "cell_type": "code",
   "execution_count": null,
   "metadata": {},
   "outputs": [],
   "source": [
    "features.feature_matrix.keys()"
   ]
  },
  {
   "cell_type": "code",
   "execution_count": null,
   "metadata": {},
   "outputs": [],
   "source": [
    "features.similarity_matrix.keys()"
   ]
  },
  {
   "cell_type": "code",
   "execution_count": null,
   "metadata": {},
   "outputs": [],
   "source": [
    "features.salience"
   ]
  },
  {
   "cell_type": "code",
   "execution_count": null,
   "metadata": {},
   "outputs": [],
   "source": [
    "[c for c in features.consonants if c not in features.feature_matrix.keys()]"
   ]
  },
  {
   "cell_type": "code",
   "execution_count": null,
   "metadata": {},
   "outputs": [],
   "source": [
    "features.feature_matrix"
   ]
  },
  {
   "cell_type": "code",
   "execution_count": null,
   "metadata": {},
   "outputs": [],
   "source": []
  }
 ],
 "metadata": {
  "kernelspec": {
   "display_name": "Python 3",
   "language": "python",
   "name": "python3"
  },
  "language_info": {
   "codemirror_mode": {
    "name": "ipython",
    "version": 3
   },
   "file_extension": ".py",
   "mimetype": "text/x-python",
   "name": "python",
   "nbconvert_exporter": "python",
   "pygments_lexer": "ipython3",
   "version": "3.7.4"
  }
 },
 "nbformat": 4,
 "nbformat_minor": 2
}
