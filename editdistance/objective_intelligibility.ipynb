{
 "cells": [
  {
   "cell_type": "markdown",
   "metadata": {},
   "source": [
    "## Objective Intelligibility Assessment by Automated Segmental and Suprasegmental Listening Error Analysis\n",
    "\n",
    "```Problem:``` Two measurements of intelligibility assessment; subjective and objective. The former is preferred over the latter that uses transcript scroing. In objective intelligbility assessment approach that is based on perceptual error analysis, most studies use measurments of word of phoneme errors. \n",
    "\n",
    "```Proposal:``` This study presents a family of algorithms to extract not only phoneme recognition errors but also word segmentation errors by automatically analyzing listener transcripts.\n",
    "\n",
    "```Participants:``` 73\n",
    "\n",
    "```Stimuli:``` 80 phrases: composed of 6 syllables that create 3 to 5 mono- and di-syllabic words. The phrases alternate strong/weak syallbic stress in either trochaic or iambic stress patterns to facilitate lexical boundary error analysis. "
   ]
  },
  {
   "cell_type": "markdown",
   "metadata": {},
   "source": [
    "### The proposed Automated Transcript Analysis (rule-based):\n",
    "\n",
    "```compares``` listeners' transcript ```with``` target pharses and,\n",
    "\n",
    "```automatically computes``` 3 types of phonemic recognition errors and 4 types of lexical segmentation errors."
   ]
  },
  {
   "cell_type": "markdown",
   "metadata": {},
   "source": [
    "```Figure 1``` shows the procedures of the algorithms\n",
    "\n",
    "![image](1.png)"
   ]
  },
  {
   "cell_type": "markdown",
   "metadata": {},
   "source": [
    "```Figure 2``` shows a schematic example\n",
    "\n",
    "![image](2.png)"
   ]
  },
  {
   "cell_type": "markdown",
   "metadata": {},
   "source": [
    "### (1) Phoneme Recognition Error Analysis:\n",
    "\n",
    "ALINE is used to calculate phoneme errors using listeners' transcripts and target pharses. \n",
    "\n",
    "Output is 4 aligned phoneme pairs. \n",
    "1. Two identical phonemes are aligned to each other, for example, (b, b), which is a correct transcription.\n",
    "2. two distinct phonemes are aligned to each other, for example, (æ, ɛ), which is counted as a substitution error.\n",
    "3. the target phoneme cannot be aligned to any tran- scribed phoneme, for example, (n, -), which is counted as a deletion error\n",
    "4. the transcribed phoneme cannot be aligned to any target phoneme, for example, (-, ʌ), which is counted as an insertion error.\n"
   ]
  },
  {
   "cell_type": "markdown",
   "metadata": {},
   "source": [
    "### (2) Lexical Segmentation Error Analysis:\n",
    "\n",
    "includes 4 subtypes:\n",
    "\n",
    "1. an inserted word boundary before a strong syllable (IS).\n",
    "2. an inserted word boundary before a weak syllable (IW).\n",
    "3. a deleted word boundary before a strong syllable (DS).\n",
    "4. a deleted word boundary before a weak sylla- ble (DW).\n",
    "\n"
   ]
  },
  {
   "cell_type": "code",
   "execution_count": 1,
   "metadata": {},
   "outputs": [],
   "source": [
    "# Their pseudo code (p. 3363) based on Fig 2\n",
    "\n",
    "# represent listeners' transcript using X for syllable and space for LB\n",
    "\n",
    "# compare the location of LB with target stress pattern\n",
    "\n",
    "# count the number of the four possible lexican segmentation errors"
   ]
  },
  {
   "cell_type": "code",
   "execution_count": null,
   "metadata": {},
   "outputs": [],
   "source": []
  }
 ],
 "metadata": {
  "kernelspec": {
   "display_name": "Python 3",
   "language": "python",
   "name": "python3"
  },
  "language_info": {
   "codemirror_mode": {
    "name": "ipython",
    "version": 3
   },
   "file_extension": ".py",
   "mimetype": "text/x-python",
   "name": "python",
   "nbconvert_exporter": "python",
   "pygments_lexer": "ipython3",
   "version": "3.8.5"
  }
 },
 "nbformat": 4,
 "nbformat_minor": 4
}
