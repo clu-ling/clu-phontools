{
 "cells": [
  {
   "cell_type": "code",
   "execution_count": 15,
   "metadata": {},
   "outputs": [],
   "source": [
    "from __future__ import unicode_literals\n",
    "from typing import List, Tuple\n",
    "import pandas as pd"
   ]
  },
  {
   "cell_type": "code",
   "execution_count": 16,
   "metadata": {},
   "outputs": [],
   "source": [
    "# read the file\n",
    "def read_file(path: str) -> [List[List[str]]]:\n",
    "    '''\n",
    "    reads an excel file\n",
    "    \n",
    "    :param: path to the file\n",
    "    :rtype: list of lists of strings\n",
    "    '''\n",
    "    file = pd.read_excel(path, header=None)\n",
    "    df = file.stack().groupby(level=0).apply(' '.join)\n",
    "    df = [i.replace('LB', '') for i in df]\n",
    "    df = [d.split() for d in df]    \n",
    "    return df # return a list of lists"
   ]
  },
  {
   "cell_type": "code",
   "execution_count": 18,
   "metadata": {},
   "outputs": [],
   "source": [
    "f = read_file('./alignments.xlsx')"
   ]
  },
  {
   "cell_type": "code",
   "execution_count": 22,
   "metadata": {},
   "outputs": [],
   "source": [
    "class Converter:\n",
    "    '''\n",
    "    This class matches every phone with itself while it matches phones with length > 1 to numbers as follows:\n",
    "    'tʃ':'1'\n",
    "    'dʒ':'2'\n",
    "    'ɑɪ':'3'\n",
    "    'ɑi':'4'\n",
    "    'ɔɪ':'5'\n",
    "    'ɑʊ':'6'\n",
    "    '''\n",
    "    def __init__(self):\n",
    "        self.table = {}\n",
    "        self.phones_dictionary()\n",
    "        \n",
    "    def phones_dictionary(self):\n",
    "        self.table = {\n",
    "            # ----- consonants -----#\n",
    "            'tʃ':'1', 'dʒ':'2', 'p':'p', 'b':'b', 't':'t', 'd':'d', 'ʈ':'ʈ', 'ɖ':'ɖ',\n",
    "            'c':'c', 'ɟ':'ɟ', 'k':'k','g':'g', 'ɡ':'ɡ', 'q':'q','ɢ':'ɢ','ʔ':'ʔ', 'm':'m',\n",
    "            'ɱ':'ɱ','n':'n','ɳ':'ɳ','ɲ':'ɲ','ŋ':'ŋ','ɴ':'ɴ','N':'N','ʙ':'ʙ','r':'r','ʀ':'ʀ',\n",
    "            'R':'R', 'ɾ':'ɾ', 'ɽ':'ɽ','ɸ':'ɸ','β':'β','f':'f','v':'v','θ':'θ','ð':'ð','s':'s',\n",
    "            'z':'z','ʃ':'ʃ','ʒ':'ʒ','ʂ':'ʂ','ʐ':'ʐ','ç':'ç','ʝ':'ʝ','x':'x','ɣ':'ɣ','χ':'χ',\n",
    "            'ʁ':'ʁ','ħ':'ħ','ʕ':'ʕ','h':'h','ɦ':'ɦ','ɬ':'ɬ','ɮ':'ɮ','ʋ':'ʋ','ɹ':'ɹ','ɻ':'ɻ',\n",
    "            'j':'j','ɰ':'ɰ','l':'l','w':'w',\n",
    "            # ------ vowels -------#\n",
    "            'ɑ':'ɑ', \n",
    "            'ɪ':'ɪ',\n",
    "            'i':'i',\n",
    "            'y':'y',\n",
    "            'e':'e',\n",
    "            'E':'E',\n",
    "            'ø':'ø',\n",
    "            'ɛ':'ɛ',\n",
    "            'œ':'œ',\n",
    "            'æ':'æ',\n",
    "            'a':'a',\n",
    "            'A':'A',\n",
    "            'ɨ':'ɨ',\n",
    "            'ʉ':'ʉ',\n",
    "            'ə':'ə',\n",
    "            'u':'u',\n",
    "            'U':'U',\n",
    "            'o':'o',\n",
    "            'O':'O',\n",
    "            'ɔ':'ɔ',\n",
    "            'ɒ':'ɒ',\n",
    "            'I':'I',\n",
    "            'ʌ':'ʌ',\n",
    "            'ʊ':'ʊ',\n",
    "            'ɜ':'ɜ',\n",
    "            #-------- diphthongs -----#\n",
    "            'ɑɪ':'3',\n",
    "            'ɑi':'4',\n",
    "            'ɔɪ':'5',\n",
    "            'ɑʊ':'6',\n",
    "            \n",
    "        }\n",
    "    def convert(self, l: list) -> [List[List[str]]]:\n",
    "        converted_string = []\n",
    "        for i in range(len(l)):\n",
    "            if l[i] in self.table:\n",
    "                converted_string += self.table[l[i]]\n",
    "        return converted_string         "
   ]
  },
  {
   "cell_type": "code",
   "execution_count": 25,
   "metadata": {},
   "outputs": [],
   "source": [
    "s = Converter()\n",
    "s = [s.convert(ff) for ff in f]"
   ]
  },
  {
   "cell_type": "code",
   "execution_count": 26,
   "metadata": {},
   "outputs": [
    {
     "data": {
      "text/plain": [
       "('ædvænsbʌtsætəpil', 'ædvænsbʌtsɛtəpil')"
      ]
     },
     "execution_count": 26,
     "metadata": {},
     "output_type": "execute_result"
    }
   ],
   "source": [
    "s = [''.join(d) for d in s]\n",
    "v = iter(s)\n",
    "list_of_tuples = [(i, next(v)) for i in v]\n",
    "list_of_tuples[0]"
   ]
  },
  {
   "cell_type": "code",
   "execution_count": 33,
   "metadata": {},
   "outputs": [],
   "source": [
    "def iterative_levenshtein(s: str, t: str, **weight_dict) -> int:\n",
    "    \"\"\" \n",
    "        iterative_levenshtein(s, t) -> ldist\n",
    "        ldist is the Levenshtein distance between the strings \n",
    "        s and t.\n",
    "        For all i and j, dist[i,j] will contain the Levenshtein \n",
    "        distance between the first i characters of s and the \n",
    "        first j characters of t\n",
    "        \n",
    "        weight_dict: keyword parameters setting the costs for characters,\n",
    "                     the default value for a character will be 1\n",
    "                     \n",
    "        Source: https://www.python-course.eu/levenshtein_distance.php\n",
    "    \"\"\"\n",
    "#     s = tup[0]\n",
    "#     t = tup[1]\n",
    "\n",
    "    rows = len(s)+1\n",
    "    cols = len(t)+1\n",
    "    \n",
    "    alphabet = \"12pbtdʈɖcɟkgɡqɢʔmɱnɳɲŋɴNʙrʀRɾɽɸβfvθðszʃʒʂʐçʝxɣχʁħʕhɦɬɮʋɹɻjɰlwɑɪiyeEøɛœæaAɨʉəuUoOɔɒIʌʊɜ3456\"\n",
    "    w = dict( (x, (1, 1, 1)) for x in alphabet + alphabet.upper())\n",
    "    if weight_dict:\n",
    "        w.update(weight_dict)\n",
    "    \n",
    "    dist = [[0 for x in range(cols)] for x in range(rows)]\n",
    "\n",
    "    # source prefixes can be transformed into empty strings \n",
    "    # by deletions:\n",
    "    for row in range(1, rows):\n",
    "        dist[row][0] = dist[row-1][0] + w[s[row-1]][0]\n",
    "\n",
    "    # target prefixes can be created from an empty source string\n",
    "    # by inserting the characters\n",
    "    for col in range(1, cols):\n",
    "        dist[0][col] = dist[0][col-1] + w[t[col-1]][1]\n",
    "        \n",
    "    for col in range(1, cols):\n",
    "        for row in range(1, rows):\n",
    "            deletes = w[s[row-1]][0]\n",
    "            inserts = w[t[col-1]][1]\n",
    "            subs = max( (w[s[row-1]][2], w[t[col-1]][2]))\n",
    "            if s[row-1] == t[col-1]:\n",
    "                subs = 0\n",
    "            else:\n",
    "                subs = subs\n",
    "\n",
    "            dist[row][col] = min(dist[row-1][col] + deletes,\n",
    "                                 dist[row][col-1] + inserts,\n",
    "                                 dist[row-1][col-1] + subs) # substitution\n",
    "\n",
    "    for r in range(rows):\n",
    "        print(dist[r])\n",
    "    \n",
    " \n",
    "    return dist[row][col]\n",
    "\n",
    "#iterative_levenshtein('ædvænsbʌtsætəpil', 'ædvænsbʌtsɛtəpil')\n",
    "\n",
    "# # default:\n",
    "# print(iterative_levenshtein(\"Cat\", \n",
    "#                             \"har\", \n",
    "#                             h=(1, 2, 8),\n",
    "#                             a=(4, 5, 4),\n",
    "#                             r=(1,1,1)))\n",
    "\n",
    "# print(iterative_levenshtein(\"cat\", \n",
    "#                             \"hat\"))\n",
    "#print(iterative_levenshtein(\"abc\", \"xyz\", costs=(1,1,substitution_costs)))"
   ]
  },
  {
   "cell_type": "code",
   "execution_count": 29,
   "metadata": {},
   "outputs": [
    {
     "name": "stdout",
     "output_type": "stream",
     "text": [
      "[0, 1, 2, 3, 4, 5, 6, 7, 8, 9, 10, 11, 12, 13, 14, 15, 16]\n",
      "[1, 0, 1, 2, 3, 4, 5, 6, 7, 8, 9, 10, 11, 12, 13, 14, 15]\n",
      "[2, 1, 0, 1, 2, 3, 4, 5, 6, 7, 8, 9, 10, 11, 12, 13, 14]\n",
      "[3, 2, 1, 0, 1, 2, 3, 4, 5, 6, 7, 8, 9, 10, 11, 12, 13]\n",
      "[4, 3, 2, 1, 0, 1, 2, 3, 4, 5, 6, 7, 8, 9, 10, 11, 12]\n",
      "[5, 4, 3, 2, 1, 0, 1, 2, 3, 4, 5, 6, 7, 8, 9, 10, 11]\n",
      "[6, 5, 4, 3, 2, 1, 0, 1, 2, 3, 4, 5, 6, 7, 8, 9, 10]\n",
      "[7, 6, 5, 4, 3, 2, 1, 0, 1, 2, 3, 4, 5, 6, 7, 8, 9]\n",
      "[8, 7, 6, 5, 4, 3, 2, 1, 0, 1, 2, 3, 4, 5, 6, 7, 8]\n",
      "[9, 8, 7, 6, 5, 4, 3, 2, 1, 0, 1, 2, 3, 4, 5, 6, 7]\n",
      "[10, 9, 8, 7, 6, 5, 4, 3, 2, 1, 0, 1, 2, 3, 4, 5, 6]\n",
      "[11, 10, 9, 8, 7, 6, 5, 4, 3, 2, 1, 1, 2, 3, 4, 5, 6]\n",
      "[12, 11, 10, 9, 8, 7, 6, 5, 4, 3, 2, 2, 1, 2, 3, 4, 5]\n",
      "[13, 12, 11, 10, 9, 8, 7, 6, 5, 4, 3, 3, 2, 1, 2, 3, 4]\n",
      "[14, 13, 12, 11, 10, 9, 8, 7, 6, 5, 4, 4, 3, 2, 1, 2, 3]\n",
      "[15, 14, 13, 12, 11, 10, 9, 8, 7, 6, 5, 5, 4, 3, 2, 1, 2]\n",
      "[16, 15, 14, 13, 12, 11, 10, 9, 8, 7, 6, 6, 5, 4, 3, 2, 1]\n"
     ]
    },
    {
     "data": {
      "text/plain": [
       "1"
      ]
     },
     "execution_count": 29,
     "metadata": {},
     "output_type": "execute_result"
    }
   ],
   "source": [
    "# get the first tuple in the list which is ('ædvænsbʌtsætəpil', 'ædvænsbʌtsɛtəpil')\n",
    "n = list_of_tuples[0]\n",
    "\n",
    "# compute distance between the two strings in the tuple without any costs\n",
    "compute_distance_1 = iterative_levenshtein(n[0],n[1])\n",
    "compute_distance_1"
   ]
  },
  {
   "cell_type": "code",
   "execution_count": 32,
   "metadata": {},
   "outputs": [
    {
     "name": "stdout",
     "output_type": "stream",
     "text": [
      "[0, 1, 2, 3, 4, 5, 6, 7, 8, 9, 10, 11, 12, 13, 14, 15, 16]\n",
      "[1, 0, 1, 2, 3, 4, 5, 6, 7, 8, 9, 10, 11, 12, 13, 14, 15]\n",
      "[2, 1, 0, 1, 2, 3, 4, 5, 6, 7, 8, 9, 10, 11, 12, 13, 14]\n",
      "[3, 2, 1, 0, 1, 2, 3, 4, 5, 6, 7, 8, 9, 10, 11, 12, 13]\n",
      "[4, 3, 2, 1, 0, 1, 2, 3, 4, 5, 6, 7, 8, 9, 10, 11, 12]\n",
      "[5, 4, 3, 2, 1, 0, 1, 2, 3, 4, 5, 6, 7, 8, 9, 10, 11]\n",
      "[6, 5, 4, 3, 2, 1, 0, 1, 2, 3, 4, 5, 6, 7, 8, 9, 10]\n",
      "[7, 6, 5, 4, 3, 2, 1, 0, 1, 2, 3, 4, 5, 6, 7, 8, 9]\n",
      "[8, 7, 6, 5, 4, 3, 2, 1, 0, 1, 2, 3, 4, 5, 6, 7, 8]\n",
      "[9, 8, 7, 6, 5, 4, 3, 2, 1, 0, 1, 2, 3, 4, 5, 6, 7]\n",
      "[10, 9, 8, 7, 6, 5, 4, 3, 2, 1, 0, 1, 2, 3, 4, 5, 6]\n",
      "[11, 10, 9, 8, 7, 6, 5, 4, 3, 2, 1, 2, 2, 3, 4, 5, 6]\n",
      "[12, 11, 10, 9, 8, 7, 6, 5, 4, 3, 2, 3, 2, 3, 4, 5, 6]\n",
      "[13, 12, 11, 10, 9, 8, 7, 6, 5, 4, 3, 4, 3, 2, 3, 4, 5]\n",
      "[14, 13, 12, 11, 10, 9, 8, 7, 6, 5, 4, 5, 4, 3, 2, 3, 4]\n",
      "[15, 14, 13, 12, 11, 10, 9, 8, 7, 6, 5, 6, 5, 4, 3, 2, 3]\n",
      "[16, 15, 14, 13, 12, 11, 10, 9, 8, 7, 6, 7, 6, 5, 4, 3, 2]\n"
     ]
    },
    {
     "data": {
      "text/plain": [
       "2"
      ]
     },
     "execution_count": 32,
     "metadata": {},
     "output_type": "execute_result"
    }
   ],
   "source": [
    "# compute distance between the two strings in the tuple \n",
    "# by adding weights for insertions, deletions and substitutions\n",
    "\n",
    "#  the weights for ɛ: (1,1,2) for insertions, deletions and substitutions respectively\n",
    "compute_distance_2 = iterative_levenshtein(n[0],n[1],\n",
    "                                        ɛ = (1,1,2))\n",
    "compute_distance_2"
   ]
  },
  {
   "cell_type": "code",
   "execution_count": null,
   "metadata": {},
   "outputs": [],
   "source": []
  }
 ],
 "metadata": {
  "kernelspec": {
   "display_name": "Python 3",
   "language": "python",
   "name": "python3"
  },
  "language_info": {
   "codemirror_mode": {
    "name": "ipython",
    "version": 3
   },
   "file_extension": ".py",
   "mimetype": "text/x-python",
   "name": "python",
   "nbconvert_exporter": "python",
   "pygments_lexer": "ipython3",
   "version": "3.7.3"
  }
 },
 "nbformat": 4,
 "nbformat_minor": 2
}
